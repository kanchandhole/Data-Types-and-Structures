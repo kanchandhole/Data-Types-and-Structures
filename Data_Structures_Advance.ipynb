{
  "nbformat": 4,
  "nbformat_minor": 0,
  "metadata": {
    "colab": {
      "provenance": [],
      "authorship_tag": "ABX9TyNGKyCaJ4gCpTVw1QeB2ZU2",
      "include_colab_link": true
    },
    "kernelspec": {
      "name": "python3",
      "display_name": "Python 3"
    },
    "language_info": {
      "name": "python"
    }
  },
  "cells": [
    {
      "cell_type": "markdown",
      "metadata": {
        "id": "view-in-github",
        "colab_type": "text"
      },
      "source": [
        "<a href=\"https://colab.research.google.com/github/kanchandhole/Data-Types-and-Structures/blob/main/Data_Structures_Advance.ipynb\" target=\"_parent\"><img src=\"https://colab.research.google.com/assets/colab-badge.svg\" alt=\"Open In Colab\"/></a>"
      ]
    },
    {
      "cell_type": "markdown",
      "source": [
        "**1.**Write a code to reverse a string?"
      ],
      "metadata": {
        "id": "40d3GOe_c_rE"
      }
    },
    {
      "cell_type": "code",
      "source": [
        "a=\"kanchan\""
      ],
      "metadata": {
        "id": "ZBUCU90pdHtW"
      },
      "execution_count": null,
      "outputs": []
    },
    {
      "cell_type": "code",
      "source": [
        "a[::-1]"
      ],
      "metadata": {
        "colab": {
          "base_uri": "https://localhost:8080/",
          "height": 36
        },
        "id": "lQTa1FStdPLw",
        "outputId": "dcb82339-0429-4933-8b5c-bfc330b84f78"
      },
      "execution_count": null,
      "outputs": [
        {
          "output_type": "execute_result",
          "data": {
            "text/plain": [
              "'nahcnak'"
            ],
            "application/vnd.google.colaboratory.intrinsic+json": {
              "type": "string"
            }
          },
          "metadata": {},
          "execution_count": 5
        }
      ]
    },
    {
      "cell_type": "markdown",
      "source": [
        "**2.**Write a code to count the number of vowels in a string?"
      ],
      "metadata": {
        "id": "oG9U1TngdiSZ"
      }
    },
    {
      "cell_type": "code",
      "source": [
        "Vowel = {\"a\",\"e\",\"i\",\"o\",\"u\"}\n",
        "name = \"kanchan\"\n",
        "count = 0\n",
        "for char in name:\n",
        "  if char in Vowel:\n",
        "    count += 1\n",
        "print(count)"
      ],
      "metadata": {
        "colab": {
          "base_uri": "https://localhost:8080/"
        },
        "id": "ishaJUs0oE8H",
        "outputId": "acaebbab-7eb7-472c-a147-8a67f63f2cee"
      },
      "execution_count": null,
      "outputs": [
        {
          "output_type": "stream",
          "name": "stdout",
          "text": [
            "2\n"
          ]
        }
      ]
    },
    {
      "cell_type": "markdown",
      "source": [
        "**3.**Write a code to check if a given string is a palindrome or not?"
      ],
      "metadata": {
        "id": "ZXPu8IA8on8h"
      }
    },
    {
      "cell_type": "code",
      "source": [
        "str= \"level\".lower()\n",
        "if str == str[::-1]:\n",
        "  print(\"palindrome\")\n",
        "else:\n",
        "  print(\"not palindrome\")"
      ],
      "metadata": {
        "colab": {
          "base_uri": "https://localhost:8080/"
        },
        "id": "XwT6FM-_o3hY",
        "outputId": "9e3baa64-3a5c-43c7-9aa7-4e337d3b3ede"
      },
      "execution_count": null,
      "outputs": [
        {
          "output_type": "stream",
          "name": "stdout",
          "text": [
            "palindrome\n"
          ]
        }
      ]
    },
    {
      "cell_type": "markdown",
      "source": [
        "**4.**Write a code to check if two given strings are anagrams of each other?"
      ],
      "metadata": {
        "id": "xt2R2ofdqWw_"
      }
    },
    {
      "cell_type": "code",
      "source": [
        "str1= \"listen\"\n",
        "str2= \"silent\"\n",
        "if sorted(str1) == sorted(str2):\n",
        "  print(\"anagram\")\n",
        "else:\n",
        "  print(\"not anagram\")"
      ],
      "metadata": {
        "colab": {
          "base_uri": "https://localhost:8080/"
        },
        "id": "kIcqmZM4qeXZ",
        "outputId": "46d41a12-d6ae-4ae5-9974-45992c157948"
      },
      "execution_count": null,
      "outputs": [
        {
          "output_type": "stream",
          "name": "stdout",
          "text": [
            "anagram\n"
          ]
        }
      ]
    },
    {
      "cell_type": "markdown",
      "source": [
        "**5.**Write a code to find all occurrences of a given substring within another string."
      ],
      "metadata": {
        "id": "PF-7fKnvrhgD"
      }
    },
    {
      "cell_type": "code",
      "source": [
        "main_string = \"This is a test string with test as substring.\"\n",
        "substring = \"test\"\n",
        "occurrences = []\n",
        "start = 0\n",
        "while True:\n",
        "  start = main_string.find(substring, start)\n",
        "  if start == -1:\n",
        "    break\n",
        "  occurrences.append(start)\n",
        "  start += len(substring)\n",
        "print(occurrences)\n"
      ],
      "metadata": {
        "id": "M_cAa8nMsBTt",
        "colab": {
          "base_uri": "https://localhost:8080/"
        },
        "outputId": "987c35bd-c8a7-4da8-fac8-56be1986971e"
      },
      "execution_count": null,
      "outputs": [
        {
          "output_type": "stream",
          "name": "stdout",
          "text": [
            "[10, 27]\n"
          ]
        }
      ]
    },
    {
      "cell_type": "markdown",
      "source": [
        "**6.**Write a code to perform basic string compression using the counts of repeated characters?"
      ],
      "metadata": {
        "id": "c8C-PIuag3Du"
      }
    },
    {
      "cell_type": "code",
      "source": [
        "word = \"programing\"\n",
        "chara = \"g\"\n",
        "count = 0\n",
        "for i in word:\n",
        "  if i == chara:\n",
        "    count += 1\n",
        "print(count)"
      ],
      "metadata": {
        "colab": {
          "base_uri": "https://localhost:8080/"
        },
        "id": "KBVDLJzEnc4p",
        "outputId": "411a8722-981c-4c66-a702-fa237e5a11b1"
      },
      "execution_count": null,
      "outputs": [
        {
          "output_type": "stream",
          "name": "stdout",
          "text": [
            "2\n"
          ]
        }
      ]
    },
    {
      "cell_type": "markdown",
      "source": [
        "**7.**Write a code to determine if a string has all unique characters."
      ],
      "metadata": {
        "id": "beUurVm1kiFu"
      }
    },
    {
      "cell_type": "code",
      "source": [
        "input_string = \"abcdefg\"\n",
        "seen_characters = set()\n",
        "all_unique = True\n",
        "for char in input_string:\n",
        "    if char in seen_characters:\n",
        "        all_unique = False\n",
        "        break\n",
        "    seen_characters.add(char)\n",
        "if all_unique:\n",
        "    print(\"The string has all unique characters.\")\n",
        "else:\n",
        "    print(\"The string has duplicate characters.\")\n"
      ],
      "metadata": {
        "colab": {
          "base_uri": "https://localhost:8080/"
        },
        "id": "KvbNcsAJkibg",
        "outputId": "cf366365-4bc1-4151-e1b3-432c2a72529d"
      },
      "execution_count": null,
      "outputs": [
        {
          "output_type": "stream",
          "name": "stdout",
          "text": [
            "The string has all unique characters.\n"
          ]
        }
      ]
    },
    {
      "cell_type": "markdown",
      "source": [
        "**8.**Write a code to convert a given string to uppercase or lowercase."
      ],
      "metadata": {
        "id": "VC5wE6iDlQJ0"
      }
    },
    {
      "cell_type": "code",
      "source": [
        "Str= \"kanchan\"\n",
        "print(str.lower())\n",
        "print(str.upper())\n"
      ],
      "metadata": {
        "colab": {
          "base_uri": "https://localhost:8080/"
        },
        "id": "1Pg7viZTlXlB",
        "outputId": "8fc4d3e9-2cc5-45b8-f1e8-52391a69a036"
      },
      "execution_count": null,
      "outputs": [
        {
          "output_type": "stream",
          "name": "stdout",
          "text": [
            "kanchan\n",
            "KANCHAN\n"
          ]
        }
      ]
    },
    {
      "cell_type": "markdown",
      "source": [
        "**9.**Write a code to count the number of words in a string."
      ],
      "metadata": {
        "id": "1G76TU4tmu2V"
      }
    },
    {
      "cell_type": "code",
      "source": [
        "str= \"this is example\"\n",
        "s=len(str)\n",
        "print(\"The Number Word In A String:\",s)"
      ],
      "metadata": {
        "colab": {
          "base_uri": "https://localhost:8080/"
        },
        "id": "0cUnRDWmlams",
        "outputId": "dc0d5f42-3eec-4d16-bbb9-0ca4dcb89b34"
      },
      "execution_count": null,
      "outputs": [
        {
          "output_type": "stream",
          "name": "stdout",
          "text": [
            "The Number Word In A String: 15\n"
          ]
        }
      ]
    },
    {
      "cell_type": "markdown",
      "source": [
        "**10.**Write a code to concatenate two strings without using the + operator."
      ],
      "metadata": {
        "id": "Y21NpS5MoOyF"
      }
    },
    {
      "cell_type": "code",
      "source": [
        "string1 = \"Hello\"\n",
        "string2 = \"World\"\n",
        "concatenated_string = ''.join([string1, string2])\n",
        "print(\"Concatenated string:\", concatenated_string)"
      ],
      "metadata": {
        "colab": {
          "base_uri": "https://localhost:8080/"
        },
        "id": "BMAgg7vEoep3",
        "outputId": "1855381d-eaac-41a5-f501-130dfb133d60"
      },
      "execution_count": null,
      "outputs": [
        {
          "output_type": "stream",
          "name": "stdout",
          "text": [
            "Concatenated string: HelloWorld\n"
          ]
        }
      ]
    },
    {
      "cell_type": "markdown",
      "source": [
        "**11.** Write a code to remove all occurrences of a specific element from a list."
      ],
      "metadata": {
        "id": "BtRL7sVOpW33"
      }
    },
    {
      "cell_type": "code",
      "source": [
        "lis = [1,2,3,2,6,2,4,2]"
      ],
      "metadata": {
        "id": "HJBmF-oQp8Ug"
      },
      "execution_count": null,
      "outputs": []
    },
    {
      "cell_type": "code",
      "source": [
        "lis.remove(2)\n",
        "print(lis)"
      ],
      "metadata": {
        "colab": {
          "base_uri": "https://localhost:8080/"
        },
        "id": "nRlbmNoJqujC",
        "outputId": "e0b5e023-d74a-4c45-bbae-c933d01d8e36"
      },
      "execution_count": null,
      "outputs": [
        {
          "output_type": "stream",
          "name": "stdout",
          "text": [
            "[1, 3, 6, 4]\n"
          ]
        }
      ]
    },
    {
      "cell_type": "markdown",
      "source": [
        "12.Implement a code to find the second largest number in a given list of integers."
      ],
      "metadata": {
        "id": "GHkoFR0vsSbK"
      }
    },
    {
      "cell_type": "code",
      "source": [
        "num_lis = [10, 20, 4, 45, 99]\n",
        "num_lis.sort()\n",
        "print(\"Second largest element is:\", num_lis[-2])"
      ],
      "metadata": {
        "colab": {
          "base_uri": "https://localhost:8080/"
        },
        "id": "f4BJSMhQsZwp",
        "outputId": "e755eb56-4f70-4821-deeb-0f66cf507301"
      },
      "execution_count": null,
      "outputs": [
        {
          "output_type": "stream",
          "name": "stdout",
          "text": [
            "Second largest element is: 45\n"
          ]
        }
      ]
    },
    {
      "cell_type": "markdown",
      "source": [
        "**13.**Create a code to count the occurrences of each element in a list and return a dictionary with elements as\n",
        "keys and their counts as values"
      ],
      "metadata": {
        "id": "AALYahMNtw84"
      }
    },
    {
      "cell_type": "code",
      "source": [
        "my_lis = [1, 2, 3, 4,5,6,7]\n",
        "count_dict = {}\n",
        "for element in my_lis:\n",
        "    if element in count_dict:\n",
        "        count_dict[element] += 1\n",
        "    else:\n",
        "        count_dict[element] = 1\n",
        "print(count_dict)"
      ],
      "metadata": {
        "colab": {
          "base_uri": "https://localhost:8080/"
        },
        "id": "xSKxFfcpwBeV",
        "outputId": "f2dbe2ad-a795-4409-bca0-2f02e97da618"
      },
      "execution_count": null,
      "outputs": [
        {
          "output_type": "stream",
          "name": "stdout",
          "text": [
            "{1: 1, 2: 1, 3: 1, 4: 1, 5: 1, 6: 1, 7: 1}\n"
          ]
        }
      ]
    },
    {
      "cell_type": "markdown",
      "source": [
        "**14.**Write a code to reverse a list in-place without using any built-in reverse functions."
      ],
      "metadata": {
        "id": "7Yd3IgvMxJxd"
      }
    },
    {
      "cell_type": "code",
      "source": [
        "num_lis = [10, 20, 4, 45, 99]\n",
        "num_lis.reverse()\n",
        "print(num_lis)"
      ],
      "metadata": {
        "colab": {
          "base_uri": "https://localhost:8080/"
        },
        "id": "OsKgVoXpxWzB",
        "outputId": "83c15eab-12d5-4747-b570-5a7f9d150386"
      },
      "execution_count": null,
      "outputs": [
        {
          "output_type": "stream",
          "name": "stdout",
          "text": [
            "[99, 45, 4, 20, 10]\n"
          ]
        }
      ]
    },
    {
      "cell_type": "markdown",
      "source": [
        "**15.**Implement a code to find and remove duplicates from a list while preserving the original order of\n",
        "elements."
      ],
      "metadata": {
        "id": "jhYVwH9lxr4x"
      }
    },
    {
      "cell_type": "code",
      "source": [
        "my_lis1 = [1, 2, 3, 4, 2, 5, 2, 3, 1]\n",
        "my_lis2 = []\n",
        "for element in my_lis1:\n",
        "    if element not in my_lis2:\n",
        "        my_lis2.append(element)\n",
        "print(my_lis2)\n",
        "\n"
      ],
      "metadata": {
        "colab": {
          "base_uri": "https://localhost:8080/"
        },
        "id": "yfKK-Umlzv_d",
        "outputId": "adfce088-82aa-4e08-8544-a0afdb3c3467"
      },
      "execution_count": null,
      "outputs": [
        {
          "output_type": "stream",
          "name": "stdout",
          "text": [
            "[1, 2, 3, 4, 5]\n"
          ]
        }
      ]
    },
    {
      "cell_type": "markdown",
      "source": [
        "**16.**Create a code to check if a given list is sorted (either in ascending or descending order) or not."
      ],
      "metadata": {
        "id": "azbGvkJQ1qiL"
      }
    },
    {
      "cell_type": "code",
      "source": [
        "my_lis = [5,4,3,2,1]\n",
        "ascending = True\n",
        "descending = True\n",
        "for i in range(1, len(my_lis)):\n",
        "    if my_lis[i] < my_lis[i - 1]:\n",
        "        ascending = False\n",
        "    if my_lis[i] > my_lis[i - 1]:\n",
        "        descending = False\n",
        "if ascending:\n",
        "    print(\"Ascending\")\n",
        "elif descending:\n",
        "    print(\"Descending\")\n",
        "else:\n",
        "    print(\"Not Sorted\")\n"
      ],
      "metadata": {
        "colab": {
          "base_uri": "https://localhost:8080/"
        },
        "id": "hJwFoNdW3764",
        "outputId": "196ea9af-4ba3-45d5-93e3-b6acf8857b42"
      },
      "execution_count": null,
      "outputs": [
        {
          "output_type": "stream",
          "name": "stdout",
          "text": [
            "Descending\n"
          ]
        }
      ]
    },
    {
      "cell_type": "markdown",
      "source": [
        "**17.**write a code to merge two sorted lists into a single sorted list"
      ],
      "metadata": {
        "id": "cfM67xMZ5AUu"
      }
    },
    {
      "cell_type": "code",
      "source": [
        "lis3 = [1,2,3]\n",
        "lis4 = [4,5,6]\n",
        "lis3.extend(lis4)\n",
        "print(lis3)"
      ],
      "metadata": {
        "colab": {
          "base_uri": "https://localhost:8080/"
        },
        "id": "P5XHYmbw5IVF",
        "outputId": "80922121-5609-4490-c7e4-87f4e4809f91"
      },
      "execution_count": null,
      "outputs": [
        {
          "output_type": "stream",
          "name": "stdout",
          "text": [
            "[1, 2, 3, 4, 5, 6]\n"
          ]
        }
      ]
    },
    {
      "cell_type": "markdown",
      "source": [
        "**18.**Implement a code to find the intersection of two given lists"
      ],
      "metadata": {
        "id": "hNJeA3tz7jet"
      }
    },
    {
      "cell_type": "code",
      "source": [
        "s5=[1,2,3,4]\n",
        "s6=[2,3,4,5]\n",
        "s10 = list(set(s5) & set(s6))\n",
        "print(s10)"
      ],
      "metadata": {
        "colab": {
          "base_uri": "https://localhost:8080/"
        },
        "id": "RAwyDXJQ7pll",
        "outputId": "41aa1730-06f3-44fd-cf0c-6530c139e570"
      },
      "execution_count": null,
      "outputs": [
        {
          "output_type": "stream",
          "name": "stdout",
          "text": [
            "[2, 3, 4]\n"
          ]
        }
      ]
    },
    {
      "cell_type": "markdown",
      "source": [
        "**19.**Create a code to find the union of two lists without duplicates"
      ],
      "metadata": {
        "id": "EgTGh4P-P9LH"
      }
    },
    {
      "cell_type": "code",
      "source": [
        "s5=[1,2,3,4]\n",
        "s6=[2,3,4,5]\n",
        "s10 = list(set(s5) | set(s6))\n",
        "print(s10)"
      ],
      "metadata": {
        "colab": {
          "base_uri": "https://localhost:8080/"
        },
        "id": "CSKq6BSwQHA_",
        "outputId": "bb80ad23-2837-4e04-ca93-a20f97aa1e4f"
      },
      "execution_count": null,
      "outputs": [
        {
          "output_type": "stream",
          "name": "stdout",
          "text": [
            "[1, 2, 3, 4, 5]\n"
          ]
        }
      ]
    },
    {
      "cell_type": "markdown",
      "source": [
        "**20.**Write a code to shuffle a given list randomly without using any built-in shuffle functions"
      ],
      "metadata": {
        "id": "PQW8RY2MQlpO"
      }
    },
    {
      "cell_type": "code",
      "source": [
        "import random\n",
        "\n",
        "# Sample list to shuffle\n",
        "my_list = [1, 2, 3, 4, 5]\n",
        "\n",
        "# Get the length of the list\n",
        "n = len(my_list)\n",
        "\n",
        "# Perform the Fisher-Yates shuffle\n",
        "for i in range(n - 1, 0, -1):\n",
        "    # Generate a random index from 0 to i\n",
        "    j = random.randint(0, i)\n",
        "\n",
        "    # Swap the elements at index i and j\n",
        "    my_list[i], my_list[j] = my_list[j], my_list[i]\n",
        "\n",
        "# Print the shuffled list\n",
        "print(my_list)"
      ],
      "metadata": {
        "colab": {
          "base_uri": "https://localhost:8080/"
        },
        "id": "XrDjustGRB3r",
        "outputId": "39d590c4-fed5-45d4-bbd0-e9e4b418d67d"
      },
      "execution_count": null,
      "outputs": [
        {
          "output_type": "stream",
          "name": "stdout",
          "text": [
            "[4, 2, 3, 1, 5]\n"
          ]
        }
      ]
    },
    {
      "cell_type": "markdown",
      "source": [
        "**21.**Write a code that takes two tuples as input and returns a new tuple containing elements that are\n",
        "common to both input tuples"
      ],
      "metadata": {
        "id": "C9bbKjGTReEb"
      }
    },
    {
      "cell_type": "code",
      "source": [
        "t1 = (1, 2, 3, 4, 5)\n",
        "t2 = (4, 5, 6, 7, 8)\n",
        "common_elements = tuple(set(t1) & set(t2))\n",
        "print(common_elements)"
      ],
      "metadata": {
        "colab": {
          "base_uri": "https://localhost:8080/"
        },
        "id": "ZjEejKc0RniH",
        "outputId": "2b221144-3fef-4adc-db5d-02bf8cc215bd"
      },
      "execution_count": null,
      "outputs": [
        {
          "output_type": "stream",
          "name": "stdout",
          "text": [
            "(4, 5)\n"
          ]
        }
      ]
    },
    {
      "cell_type": "markdown",
      "source": [
        "**22.**Create a code that prompts the user to enter two sets of integers separated by commas. Then, print the\n",
        "intersection of these two sets"
      ],
      "metadata": {
        "id": "U16RsUxuSvAT"
      }
    },
    {
      "cell_type": "code",
      "source": [
        "set1_input = input(\"Enter the first set of integers, separated by commas: \")\n",
        "set2_input = input(\"Enter the second set of integers, separated by commas: \")\n",
        "set1 = {int(x) for x in set1_input.split(',')}\n",
        "set2 = {int(x) for x in set2_input.split(',')}\n",
        "intersection = set1 & set2\n",
        "print(\"The intersection of the two sets is:\", intersection)"
      ],
      "metadata": {
        "colab": {
          "base_uri": "https://localhost:8080/"
        },
        "id": "G8pSI8L_SzGW",
        "outputId": "e1c521b0-d6f9-482c-bf1d-fc03302125c6"
      },
      "execution_count": null,
      "outputs": [
        {
          "output_type": "stream",
          "name": "stdout",
          "text": [
            "Enter the first set of integers, separated by commas: 1,2,3,4,5\n",
            "Enter the second set of integers, separated by commas: 6,7,8,9,1\n",
            "The intersection of the two sets is: {1}\n"
          ]
        }
      ]
    },
    {
      "cell_type": "markdown",
      "source": [
        "**23.**Write a code to concatenate two tuples. The function should take two tuples as input and return a new\n",
        "tuple containing elements from both input tuples."
      ],
      "metadata": {
        "id": "ixRuedQDTg5j"
      }
    },
    {
      "cell_type": "code",
      "source": [
        "\n",
        "t1=(1,2,3)\n",
        "t2=(4,5,6)\n",
        "t3 = t1+t2\n",
        "print(t3)"
      ],
      "metadata": {
        "colab": {
          "base_uri": "https://localhost:8080/"
        },
        "id": "xKqEf8agT9DZ",
        "outputId": "7e6568dd-3a41-4dbb-db00-f17342d62bee"
      },
      "execution_count": null,
      "outputs": [
        {
          "output_type": "stream",
          "name": "stdout",
          "text": [
            "(1, 2, 3, 4, 5, 6)\n"
          ]
        }
      ]
    },
    {
      "cell_type": "markdown",
      "source": [
        "**24.**Develop a code that prompts the user to input two sets of strings. Then, print the elements that are\n",
        "present in the first set but not in the second set."
      ],
      "metadata": {
        "id": "KmGQkV0HUcUw"
      }
    },
    {
      "cell_type": "code",
      "source": [
        "set1_input = set(input(\"Enter the first set of strings (separate by space): \").split())\n",
        "set2_input= set(input(\"Enter the second set of strings (separate by space): \").split())\n",
        "difference = set1_input - set2_input\n",
        "print(\"Elements in the first set but not in the second set:\", difference)\n"
      ],
      "metadata": {
        "id": "oCmkg2OpUplL",
        "colab": {
          "base_uri": "https://localhost:8080/"
        },
        "outputId": "1b48485b-e245-4a79-e1d5-ff6adb31505d"
      },
      "execution_count": null,
      "outputs": [
        {
          "output_type": "stream",
          "name": "stdout",
          "text": [
            "Enter the first set of strings (separate by space): 1,2,3,4\n",
            "Enter the second set of strings (separate by space): 1,2,4,6,8\n",
            "Elements in the first set but not in the second set: {'1,2,3,4'}\n"
          ]
        }
      ]
    },
    {
      "cell_type": "markdown",
      "source": [
        "**25**.Create a code that takes a tuple and two integers as input. The function should return a new tuple\n",
        "containing elements from the original tuple within the specified range of indices."
      ],
      "metadata": {
        "id": "2777mO1irjps"
      }
    },
    {
      "cell_type": "code",
      "source": [
        "original_tuple = tuple(input(\"Enter the tuple elements (separate by space): \").split())\n",
        "start_index = int(input(\"Enter the start index: \"))\n",
        "end_index = int(input(\"Enter the end index: \"))\n",
        "new_tuple = original_tuple[start_index:end_index+1]\n",
        "print(\"New tuple with elements within the specified range:\", new_tuple)\n"
      ],
      "metadata": {
        "colab": {
          "base_uri": "https://localhost:8080/"
        },
        "id": "FC64ZMScsIiu",
        "outputId": "019ca6fd-fa2b-4987-a2c8-35b9f823097e"
      },
      "execution_count": null,
      "outputs": [
        {
          "output_type": "stream",
          "name": "stdout",
          "text": [
            "Enter the tuple elements (separate by space): 1,2,3,4\n",
            "Enter the start index: 0\n",
            "Enter the end index: 2\n",
            "New tuple with elements within the specified range: ('1,2,3,4',)\n"
          ]
        }
      ]
    },
    {
      "cell_type": "markdown",
      "source": [
        "**26.**Write a code that prompts the user to input two sets of characters. Then, print the union of these two sets."
      ],
      "metadata": {
        "id": "-hAtvCy7svhA"
      }
    },
    {
      "cell_type": "code",
      "source": [
        "set1=input(\"enter first characters:\")\n",
        "set2=input(\"enter second characters:\")\n",
        "set1=set(set1)\n",
        "set2=set(set2)\n",
        "union=set1.union(set2)\n",
        "print(union)"
      ],
      "metadata": {
        "colab": {
          "base_uri": "https://localhost:8080/"
        },
        "id": "5OO6ugqds5tR",
        "outputId": "0fe10f8f-8050-4ca1-af0c-1b3c01b687b2"
      },
      "execution_count": null,
      "outputs": [
        {
          "output_type": "stream",
          "name": "stdout",
          "text": [
            "enter first characters:abcd\n",
            "enter second characters:efgh\n",
            "{'b', 'h', 'd', 'g', 'f', 'e', 'a', 'c'}\n"
          ]
        }
      ]
    },
    {
      "cell_type": "markdown",
      "source": [
        "**27.**Develop a code that takes a tuple of integers as input. The function should return the maximum and\n",
        "minimum values from the tuple using tuple unpacking."
      ],
      "metadata": {
        "id": "rJ8KgrLvuIQs"
      }
    },
    {
      "cell_type": "code",
      "source": [
        "input_str = input(\"Enter a tuple of integers: \")\n",
        "\n",
        "input_tuple = tuple(int(x) for x in input_str.split(','))\n",
        "\n",
        "max_value, min_value = max(input_tuple), min(input_tuple)\n",
        "\n",
        "print(f\"The maximum value is: {max_value}\")\n",
        "print(f\"The minimum value is: {min_value}\")\n"
      ],
      "metadata": {
        "colab": {
          "base_uri": "https://localhost:8080/"
        },
        "id": "NRJ-My2vuQ0F",
        "outputId": "89afeff2-3009-4b2b-b0df-569451a1b2a4"
      },
      "execution_count": null,
      "outputs": [
        {
          "output_type": "stream",
          "name": "stdout",
          "text": [
            "Enter a tuple of integers: 1,30,5,40,35\n",
            "The maximum value is: 40\n",
            "The minimum value is: 1\n"
          ]
        }
      ]
    },
    {
      "cell_type": "markdown",
      "source": [
        "**28.**Create a code that defines two sets of integers. Then, print the union, intersection, and difference of these\n",
        "two sets."
      ],
      "metadata": {
        "id": "87Eh-GxZvurI"
      }
    },
    {
      "cell_type": "code",
      "source": [
        "s1={1,2,3,4}\n",
        "s2={3,4,5,6}\n",
        "print(s1.union(s2))\n",
        "print(s1.intersection(s2))\n",
        "print(s1.difference(s2))"
      ],
      "metadata": {
        "colab": {
          "base_uri": "https://localhost:8080/"
        },
        "id": "Eyq1qizNv_z_",
        "outputId": "5bf39cd6-4777-4b9b-bde3-13de24a45bf2"
      },
      "execution_count": null,
      "outputs": [
        {
          "output_type": "stream",
          "name": "stdout",
          "text": [
            "{1, 2, 3, 4, 5, 6}\n",
            "{3, 4}\n",
            "{1, 2}\n"
          ]
        }
      ]
    },
    {
      "cell_type": "markdown",
      "source": [
        "**29.**Write a code that takes a tuple and an element as input. The function should return the count of\n",
        "occurrences of the given element in the tuple."
      ],
      "metadata": {
        "id": "ASWCgZl3wOZV"
      }
    },
    {
      "cell_type": "code",
      "source": [
        "input_str = input(\"Enter a tuple of integers: \")\n",
        "input_tuple = tuple(int(x) for x in input_str.split(','))\n",
        "element = int(input(\"Enter the element to count: \"))\n",
        "count = 0\n",
        "for item in input_tuple:\n",
        "    if item == element:\n",
        "        count += 1\n",
        "print(f\"The element {element} appears {count} time(s) in the tuple.\")\n"
      ],
      "metadata": {
        "colab": {
          "base_uri": "https://localhost:8080/"
        },
        "id": "STyvYleLwkBc",
        "outputId": "75238a84-f1a7-481a-f8cf-e7957c74623a"
      },
      "execution_count": null,
      "outputs": [
        {
          "output_type": "stream",
          "name": "stdout",
          "text": [
            "Enter a tuple of integers: 1,2,4,5,6\n",
            "Enter the element to count: 2\n",
            "The element 2 appears 1 time(s) in the tuple.\n"
          ]
        }
      ]
    },
    {
      "cell_type": "markdown",
      "source": [
        "**30.**Develop a code that prompts the user to input two sets of strings. Then, print the symmetric difference of\n",
        "these two sets."
      ],
      "metadata": {
        "id": "p1c4xJGGzbtl"
      }
    },
    {
      "cell_type": "code",
      "source": [
        "s1 = {1,2,3,4}\n",
        "s2 = {1,3,4,5}\n",
        "s3 = s1 ^ s2\n",
        "print(s3)"
      ],
      "metadata": {
        "colab": {
          "base_uri": "https://localhost:8080/"
        },
        "id": "gycHWKEw3aEe",
        "outputId": "73e3f6de-edbc-49f4-b2b9-ed3ab78751d7"
      },
      "execution_count": null,
      "outputs": [
        {
          "output_type": "stream",
          "name": "stdout",
          "text": [
            "{2, 5}\n"
          ]
        }
      ]
    },
    {
      "cell_type": "markdown",
      "source": [
        "**31**.Write a code that takes a list of words as input and returns a dictionary where the keys are unique words\n",
        "and the values are the frequencies of those words in the input list."
      ],
      "metadata": {
        "id": "kWPmy_vy5udk"
      }
    },
    {
      "cell_type": "code",
      "source": [
        "students= [\"riya\",\"priya\",\"neha\"]\n",
        "marks = [\"80\",\"90\",\"70\"]\n",
        "students_mark={}\n",
        "{student:marks for student, marks in zip(students,marks)}\n"
      ],
      "metadata": {
        "colab": {
          "base_uri": "https://localhost:8080/"
        },
        "id": "zuBKml5J5_xw",
        "outputId": "d5eb4784-d9ed-4ca7-a309-db6e67de8192"
      },
      "execution_count": null,
      "outputs": [
        {
          "output_type": "execute_result",
          "data": {
            "text/plain": [
              "{'riya': '80', 'priya': '90', 'neha': '70'}"
            ]
          },
          "metadata": {},
          "execution_count": 15
        }
      ]
    },
    {
      "cell_type": "markdown",
      "source": [
        "**32.**Write a code that takes two dictionaries as input and merges them into a single dictionary. If there are\n",
        "common keys, the values should be added together."
      ],
      "metadata": {
        "id": "UPuGhNn76e1v"
      }
    },
    {
      "cell_type": "code",
      "source": [
        "di1 = {\"riya\": \"80\", \"priya\": \"90\", \"neha\": \"70\"}\n",
        "di2 = {\"pooja\": \"90\"}\n",
        "merge_dic = {**di1, **di2}\n",
        "print(merge_dic)"
      ],
      "metadata": {
        "colab": {
          "base_uri": "https://localhost:8080/"
        },
        "id": "NAzlG0p-6t3N",
        "outputId": "18fd02d2-e729-4147-d74e-9decc2b873aa"
      },
      "execution_count": null,
      "outputs": [
        {
          "output_type": "stream",
          "name": "stdout",
          "text": [
            "{'riya': '80', 'priya': '90', 'neha': '70', 'pooja': '90'}\n"
          ]
        }
      ]
    },
    {
      "cell_type": "markdown",
      "source": [
        "**33.**Write a code to access a value in a nested dictionary. The function should take the dictionary and a list of\n",
        "keys as input, and return the corresponding value. If any of the keys do not exist in the dictionary, the\n",
        "function should return None."
      ],
      "metadata": {
        "id": "vPhWYozl8uFM"
      }
    },
    {
      "cell_type": "code",
      "source": [
        "nested_dict = {\n",
        "    'user1': {\n",
        "        'name': 'Alice',\n",
        "        'age': 30,\n",
        "        'address': {\n",
        "            'street': '123 Main St',\n",
        "            'city': 'Wonderland',\n",
        "            'zip': '12345'\n",
        "        }\n",
        "    },\n",
        "    'user2': {\n",
        "        'name': 'Bob',\n",
        "        'age': 25,\n",
        "        'address': {\n",
        "            'street': '456 Elm St',\n",
        "            'city': 'Fantasyland',\n",
        "            'zip': '67890'\n",
        "        }\n",
        "    }\n",
        "}\n",
        "for key in nested_dict.keys():\n",
        "  if key in nested_dict:\n",
        "    nested_dict[key]\n",
        "  else:\n",
        "    print(\"None\")"
      ],
      "metadata": {
        "id": "MbBr6W9rbGCv"
      },
      "execution_count": 7,
      "outputs": []
    },
    {
      "cell_type": "code",
      "source": [
        "nested_dict[\"user1\"]"
      ],
      "metadata": {
        "colab": {
          "base_uri": "https://localhost:8080/"
        },
        "id": "CPb_1tzk_NAr",
        "outputId": "e751968d-287c-44e8-9cb8-d97d5fd8c77b"
      },
      "execution_count": 4,
      "outputs": [
        {
          "output_type": "execute_result",
          "data": {
            "text/plain": [
              "{'name': 'Alice',\n",
              " 'age': 30,\n",
              " 'address': {'street': '123 Main St', 'city': 'Wonderland', 'zip': '12345'}}"
            ]
          },
          "metadata": {},
          "execution_count": 4
        }
      ]
    },
    {
      "cell_type": "code",
      "source": [
        "nested_dict[\"user2\"]"
      ],
      "metadata": {
        "colab": {
          "base_uri": "https://localhost:8080/"
        },
        "id": "Y7GDW-L-_RtF",
        "outputId": "b96d1b85-7296-4497-9621-60f1741bd2d2"
      },
      "execution_count": 9,
      "outputs": [
        {
          "output_type": "execute_result",
          "data": {
            "text/plain": [
              "{'name': 'Bob',\n",
              " 'age': 25,\n",
              " 'address': {'street': '456 Elm St', 'city': 'Fantasyland', 'zip': '67890'}}"
            ]
          },
          "metadata": {},
          "execution_count": 9
        }
      ]
    },
    {
      "cell_type": "markdown",
      "source": [
        "**34.**Write a code that takes a dictionary as input and returns a sorted version of it based on the values. You\n",
        "can choose whether to sort in ascending or descending order&"
      ],
      "metadata": {
        "id": "t1uwXFZ3386W"
      }
    },
    {
      "cell_type": "code",
      "source": [
        "import operator\n",
        "\n",
        "my_dict = {'a': 3, 'b': 1, 'c': 2, 'd': 4}\n",
        "\n",
        "sorted_dict_asc = dict(sorted(my_dict.items(), key=operator.itemgetter(1)))\n",
        "\n",
        "print(\"Sorted in ascending order:\", sorted_dict_asc)\n",
        "\n",
        "sorted_dict_desc = dict(sorted(my_dict.items(), key=operator.itemgetter(1), reverse=True))\n",
        "print(\"Sorted in descending order:\", sorted_dict_desc)"
      ],
      "metadata": {
        "colab": {
          "base_uri": "https://localhost:8080/"
        },
        "id": "HAvjgOib4rBa",
        "outputId": "88699ec4-4266-46f8-d2a9-d781d7d60ac0"
      },
      "execution_count": 11,
      "outputs": [
        {
          "output_type": "stream",
          "name": "stdout",
          "text": [
            "Sorted in ascending order: {'b': 1, 'c': 2, 'a': 3, 'd': 4}\n",
            "Sorted in descending order: {'d': 4, 'a': 3, 'c': 2, 'b': 1}\n"
          ]
        }
      ]
    },
    {
      "cell_type": "markdown",
      "source": [
        "**35.**Write a code that inverts a dictionary, swapping keys and values. Ensure that the inverted dictionary\n",
        "correctly handles cases where multiple keys have the same value by storing the keys as a list in the\n",
        "inverted dictionary"
      ],
      "metadata": {
        "id": "A0DVJgIq5qNq"
      }
    },
    {
      "cell_type": "code",
      "source": [
        "my_dict = {'a': 3, 'b': 1, 'c': 2, 'd': 3, 'e': 1}\n",
        "\n",
        "inverted_dict = {}\n",
        "\n",
        "for key, value in my_dict.items():\n",
        "    if value not in inverted_dict:\n",
        "        inverted_dict[value] = [key]\n",
        "    else:\n",
        "        inverted_dict[value].append(key)\n",
        "print(inverted_dict)"
      ],
      "metadata": {
        "colab": {
          "base_uri": "https://localhost:8080/"
        },
        "id": "xHFKfKRR56ch",
        "outputId": "edfb2417-9e64-4846-d047-a47904966917"
      },
      "execution_count": 12,
      "outputs": [
        {
          "output_type": "stream",
          "name": "stdout",
          "text": [
            "{3: ['a', 'd'], 1: ['b', 'e'], 2: ['c']}\n"
          ]
        }
      ]
    }
  ]
}