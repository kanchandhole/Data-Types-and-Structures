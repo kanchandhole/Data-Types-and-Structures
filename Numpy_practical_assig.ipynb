{
  "nbformat": 4,
  "nbformat_minor": 0,
  "metadata": {
    "colab": {
      "provenance": [],
      "authorship_tag": "ABX9TyM2UQTrt4z0qmknJggfesQH",
      "include_colab_link": true
    },
    "kernelspec": {
      "name": "python3",
      "display_name": "Python 3"
    },
    "language_info": {
      "name": "python"
    }
  },
  "cells": [
    {
      "cell_type": "markdown",
      "metadata": {
        "id": "view-in-github",
        "colab_type": "text"
      },
      "source": [
        "<a href=\"https://colab.research.google.com/github/kanchandhole/Python-assignment/blob/main/Numpy_practical_assig.ipynb\" target=\"_parent\"><img src=\"https://colab.research.google.com/assets/colab-badge.svg\" alt=\"Open In Colab\"/></a>"
      ]
    },
    {
      "cell_type": "markdown",
      "source": [
        "**1.**Create a 3x3 NumPy array with random integers between 1 and 100. Then, interchange its rows and columns."
      ],
      "metadata": {
        "id": "PONeBQuuZ6dV"
      }
    },
    {
      "cell_type": "code",
      "source": [
        "import numpy as np"
      ],
      "metadata": {
        "id": "vc_YnW0TaOCM"
      },
      "execution_count": 39,
      "outputs": []
    },
    {
      "cell_type": "code",
      "source": [
        "import random"
      ],
      "metadata": {
        "id": "rir2q4OZaRCX"
      },
      "execution_count": 3,
      "outputs": []
    },
    {
      "cell_type": "code",
      "source": [
        "ra = np.random.randint(1,100,(3,3))"
      ],
      "metadata": {
        "id": "FWppK2BhZ9_G"
      },
      "execution_count": 4,
      "outputs": []
    },
    {
      "cell_type": "code",
      "source": [
        "ra"
      ],
      "metadata": {
        "colab": {
          "base_uri": "https://localhost:8080/"
        },
        "id": "NRFEfXNsaUN_",
        "outputId": "e162a219-db19-479c-a4b0-fb43b687ac98"
      },
      "execution_count": 5,
      "outputs": [
        {
          "output_type": "execute_result",
          "data": {
            "text/plain": [
              "array([[10, 55,  1],\n",
              "       [31, 18, 67],\n",
              "       [58, 55, 74]])"
            ]
          },
          "metadata": {},
          "execution_count": 5
        }
      ]
    },
    {
      "cell_type": "code",
      "source": [
        "ra.T"
      ],
      "metadata": {
        "colab": {
          "base_uri": "https://localhost:8080/"
        },
        "id": "Dh7HJhbGaYXY",
        "outputId": "364619a4-34f7-409a-9c33-1c6f160deefc"
      },
      "execution_count": 6,
      "outputs": [
        {
          "output_type": "execute_result",
          "data": {
            "text/plain": [
              "array([[10, 31, 58],\n",
              "       [55, 18, 55],\n",
              "       [ 1, 67, 74]])"
            ]
          },
          "metadata": {},
          "execution_count": 6
        }
      ]
    },
    {
      "cell_type": "markdown",
      "source": [
        "**2.**Generate a 1D NumPy array with 10 elements. Reshape it into a 2x5 array, then into a 5x2 array."
      ],
      "metadata": {
        "id": "eedFln5jaj-W"
      }
    },
    {
      "cell_type": "code",
      "source": [
        "d1 = np.random.randint(1,10, 10)"
      ],
      "metadata": {
        "id": "QP8yOInEapZv"
      },
      "execution_count": 7,
      "outputs": []
    },
    {
      "cell_type": "code",
      "source": [
        "d1"
      ],
      "metadata": {
        "colab": {
          "base_uri": "https://localhost:8080/"
        },
        "id": "YK7vWEz_a5Qm",
        "outputId": "7b4fceb8-7e68-4179-b53f-3d93c516ee46"
      },
      "execution_count": 8,
      "outputs": [
        {
          "output_type": "execute_result",
          "data": {
            "text/plain": [
              "array([1, 1, 8, 2, 2, 9, 2, 8, 3, 7])"
            ]
          },
          "metadata": {},
          "execution_count": 8
        }
      ]
    },
    {
      "cell_type": "code",
      "source": [
        "d1.reshape(2,5)"
      ],
      "metadata": {
        "colab": {
          "base_uri": "https://localhost:8080/"
        },
        "id": "o_DwKxjza-8J",
        "outputId": "73cde9bd-de38-4fad-8e76-4bde88794214"
      },
      "execution_count": 10,
      "outputs": [
        {
          "output_type": "execute_result",
          "data": {
            "text/plain": [
              "array([[1, 1, 8, 2, 2],\n",
              "       [9, 2, 8, 3, 7]])"
            ]
          },
          "metadata": {},
          "execution_count": 10
        }
      ]
    },
    {
      "cell_type": "code",
      "source": [
        "d1.reshape(5,2)"
      ],
      "metadata": {
        "colab": {
          "base_uri": "https://localhost:8080/"
        },
        "id": "LIHx_EJrbJDh",
        "outputId": "03e3898a-a11b-4600-c46d-03d319e028fa"
      },
      "execution_count": 11,
      "outputs": [
        {
          "output_type": "execute_result",
          "data": {
            "text/plain": [
              "array([[1, 1],\n",
              "       [8, 2],\n",
              "       [2, 9],\n",
              "       [2, 8],\n",
              "       [3, 7]])"
            ]
          },
          "metadata": {},
          "execution_count": 11
        }
      ]
    },
    {
      "cell_type": "markdown",
      "source": [
        "**3.**Create a 4x4 NumPy array with random float values. Add a border of zeros around it, resulting in a 6x6 array."
      ],
      "metadata": {
        "id": "Rc84T4Q4bVVd"
      }
    },
    {
      "cell_type": "code",
      "source": [
        "z = np.ones((4,4))"
      ],
      "metadata": {
        "id": "H6vyQfW3bbMe"
      },
      "execution_count": 24,
      "outputs": []
    },
    {
      "cell_type": "code",
      "source": [
        "z"
      ],
      "metadata": {
        "colab": {
          "base_uri": "https://localhost:8080/"
        },
        "id": "HIb7jx4SbiZ6",
        "outputId": "c9f1a0ec-ca37-46ce-d577-6af7ccfdd48b"
      },
      "execution_count": 25,
      "outputs": [
        {
          "output_type": "execute_result",
          "data": {
            "text/plain": [
              "array([[1., 1., 1., 1.],\n",
              "       [1., 1., 1., 1.],\n",
              "       [1., 1., 1., 1.],\n",
              "       [1., 1., 1., 1.]])"
            ]
          },
          "metadata": {},
          "execution_count": 25
        }
      ]
    },
    {
      "cell_type": "code",
      "source": [
        "z = np.pad(z, pad_width=1, mode='constant', constant_values=0) # constructing border of 0 around 4D identity matrix # using np.pad()"
      ],
      "metadata": {
        "id": "QZoBok4qcYXU"
      },
      "execution_count": 26,
      "outputs": []
    },
    {
      "cell_type": "code",
      "source": [
        "z"
      ],
      "metadata": {
        "colab": {
          "base_uri": "https://localhost:8080/"
        },
        "id": "NpVNzLwGdEvJ",
        "outputId": "0e7cdf65-0e44-494d-9be3-e8ee63fa6507"
      },
      "execution_count": 27,
      "outputs": [
        {
          "output_type": "execute_result",
          "data": {
            "text/plain": [
              "array([[0., 0., 0., 0., 0., 0.],\n",
              "       [0., 1., 1., 1., 1., 0.],\n",
              "       [0., 1., 1., 1., 1., 0.],\n",
              "       [0., 1., 1., 1., 1., 0.],\n",
              "       [0., 1., 1., 1., 1., 0.],\n",
              "       [0., 0., 0., 0., 0., 0.]])"
            ]
          },
          "metadata": {},
          "execution_count": 27
        }
      ]
    },
    {
      "cell_type": "markdown",
      "source": [
        "**4.**Using NumPy, create an array of integers from 10 to 60 with a step of 5."
      ],
      "metadata": {
        "id": "UwqAoDEwdXXF"
      }
    },
    {
      "cell_type": "code",
      "source": [
        " step = np.arange(10,60,5)"
      ],
      "metadata": {
        "id": "_hE7wZ7ndbJi"
      },
      "execution_count": 28,
      "outputs": []
    },
    {
      "cell_type": "code",
      "source": [
        "step"
      ],
      "metadata": {
        "colab": {
          "base_uri": "https://localhost:8080/"
        },
        "id": "dUjxQQKNdinI",
        "outputId": "5f54fee5-3c3e-4a75-c5fe-13292bd628ea"
      },
      "execution_count": 29,
      "outputs": [
        {
          "output_type": "execute_result",
          "data": {
            "text/plain": [
              "array([10, 15, 20, 25, 30, 35, 40, 45, 50, 55])"
            ]
          },
          "metadata": {},
          "execution_count": 29
        }
      ]
    },
    {
      "cell_type": "markdown",
      "source": [
        "**5.**Create a NumPy array of strings ['python', 'numpy', 'pandas']. Apply different case transformations\n",
        "(uppercase, lowercase, title case, etc.) to each element."
      ],
      "metadata": {
        "id": "Vt_vdMAadvI9"
      }
    },
    {
      "cell_type": "code",
      "source": [
        "s = np.array(['python', 'numpy', 'pandas'])"
      ],
      "metadata": {
        "id": "tdFxcBabdyJH"
      },
      "execution_count": 30,
      "outputs": []
    },
    {
      "cell_type": "code",
      "source": [
        "np.char.upper(s)"
      ],
      "metadata": {
        "colab": {
          "base_uri": "https://localhost:8080/"
        },
        "id": "p3WRAblld0xJ",
        "outputId": "de99826d-916b-4816-d4ba-ca9c87fb7557"
      },
      "execution_count": 32,
      "outputs": [
        {
          "output_type": "execute_result",
          "data": {
            "text/plain": [
              "array(['PYTHON', 'NUMPY', 'PANDAS'], dtype='<U6')"
            ]
          },
          "metadata": {},
          "execution_count": 32
        }
      ]
    },
    {
      "cell_type": "code",
      "source": [
        "np.char.lower(s)"
      ],
      "metadata": {
        "colab": {
          "base_uri": "https://localhost:8080/"
        },
        "id": "r4e9Tb4xeLgV",
        "outputId": "8fe6a4aa-e4df-4021-c973-8797f67651fb"
      },
      "execution_count": 33,
      "outputs": [
        {
          "output_type": "execute_result",
          "data": {
            "text/plain": [
              "array(['python', 'numpy', 'pandas'], dtype='<U6')"
            ]
          },
          "metadata": {},
          "execution_count": 33
        }
      ]
    },
    {
      "cell_type": "code",
      "source": [
        "np.char.capitalize(s)"
      ],
      "metadata": {
        "colab": {
          "base_uri": "https://localhost:8080/"
        },
        "id": "EJCchaifeTU2",
        "outputId": "a7123d99-75a3-4a46-aa4e-43b883b7374d"
      },
      "execution_count": 35,
      "outputs": [
        {
          "output_type": "execute_result",
          "data": {
            "text/plain": [
              "array(['Python', 'Numpy', 'Pandas'], dtype='<U6')"
            ]
          },
          "metadata": {},
          "execution_count": 35
        }
      ]
    },
    {
      "cell_type": "markdown",
      "source": [
        "**6.**Generate a NumPy array of words. Insert a space between each character of every word in the array."
      ],
      "metadata": {
        "id": "95lGCn1qiKdm"
      }
    },
    {
      "cell_type": "code",
      "source": [
        "s"
      ],
      "metadata": {
        "colab": {
          "base_uri": "https://localhost:8080/"
        },
        "id": "mOG7TQzqiOe4",
        "outputId": "b3e79926-9808-4447-9804-3ee53664514f"
      },
      "execution_count": 36,
      "outputs": [
        {
          "output_type": "execute_result",
          "data": {
            "text/plain": [
              "array(['python', 'numpy', 'pandas'], dtype='<U6')"
            ]
          },
          "metadata": {},
          "execution_count": 36
        }
      ]
    },
    {
      "cell_type": "code",
      "source": [
        "s2 = np.char.split(s)"
      ],
      "metadata": {
        "id": "-VHzCpKpiWxF"
      },
      "execution_count": 49,
      "outputs": []
    },
    {
      "cell_type": "code",
      "source": [
        "r = np.char.join(\", \", s)"
      ],
      "metadata": {
        "id": "9X9y8xJmniWf"
      },
      "execution_count": 53,
      "outputs": []
    },
    {
      "cell_type": "code",
      "source": [
        "r"
      ],
      "metadata": {
        "colab": {
          "base_uri": "https://localhost:8080/"
        },
        "id": "QKWIGedVnisp",
        "outputId": "e53ad9f7-d661-4234-bfa6-6e74d49d48fc"
      },
      "execution_count": 54,
      "outputs": [
        {
          "output_type": "execute_result",
          "data": {
            "text/plain": [
              "array(['p, y, t, h, o, n', 'n, u, m, p, y', 'p, a, n, d, a, s'],\n",
              "      dtype='<U16')"
            ]
          },
          "metadata": {},
          "execution_count": 54
        }
      ]
    },
    {
      "cell_type": "code",
      "source": [
        "name = \"kanchan\""
      ],
      "metadata": {
        "id": "q-v-72hQntBU"
      },
      "execution_count": 55,
      "outputs": []
    },
    {
      "cell_type": "code",
      "source": [
        "name1 = np.char.join(\", \", name)"
      ],
      "metadata": {
        "id": "2uJkULxlnxSc"
      },
      "execution_count": 56,
      "outputs": []
    },
    {
      "cell_type": "code",
      "source": [
        "name1"
      ],
      "metadata": {
        "colab": {
          "base_uri": "https://localhost:8080/"
        },
        "id": "4lh9tsipn7J_",
        "outputId": "b0ec2ff6-835d-44e9-8fa4-35eebcc97092"
      },
      "execution_count": 57,
      "outputs": [
        {
          "output_type": "execute_result",
          "data": {
            "text/plain": [
              "array('k, a, n, c, h, a, n', dtype='<U19')"
            ]
          },
          "metadata": {},
          "execution_count": 57
        }
      ]
    },
    {
      "cell_type": "markdown",
      "source": [
        "**7.**Create two 2D NumPy arrays and perform element-wise addition, subtraction, multiplication, and division"
      ],
      "metadata": {
        "id": "E2EqTdUcoXG1"
      }
    },
    {
      "cell_type": "code",
      "source": [
        "sd = np.random.randint(2,3,(2,2))"
      ],
      "metadata": {
        "id": "Rx5bnvD2oaVj"
      },
      "execution_count": 60,
      "outputs": []
    },
    {
      "cell_type": "code",
      "source": [
        "sd"
      ],
      "metadata": {
        "colab": {
          "base_uri": "https://localhost:8080/"
        },
        "id": "Ys4Gw1KVo49K",
        "outputId": "59decf1b-5565-4b3f-aa26-6294cbc0c016"
      },
      "execution_count": 61,
      "outputs": [
        {
          "output_type": "execute_result",
          "data": {
            "text/plain": [
              "array([[2, 2],\n",
              "       [2, 2]])"
            ]
          },
          "metadata": {},
          "execution_count": 61
        }
      ]
    },
    {
      "cell_type": "code",
      "source": [
        "sd1 = np.random.randint(1,3,(2,2))"
      ],
      "metadata": {
        "id": "hBW5QRGOo7Mt"
      },
      "execution_count": 62,
      "outputs": []
    },
    {
      "cell_type": "code",
      "source": [
        "sd1"
      ],
      "metadata": {
        "colab": {
          "base_uri": "https://localhost:8080/"
        },
        "id": "AEkv8cr7pAhY",
        "outputId": "f211e251-d92e-451d-8848-e9513ec53457"
      },
      "execution_count": 63,
      "outputs": [
        {
          "output_type": "execute_result",
          "data": {
            "text/plain": [
              "array([[2, 1],\n",
              "       [1, 2]])"
            ]
          },
          "metadata": {},
          "execution_count": 63
        }
      ]
    },
    {
      "cell_type": "code",
      "source": [
        "np.subtract(sd,sd1)"
      ],
      "metadata": {
        "colab": {
          "base_uri": "https://localhost:8080/"
        },
        "id": "Cfs10hlApCuN",
        "outputId": "5aef9c3b-be03-431d-f78d-784f9a36f33a"
      },
      "execution_count": 64,
      "outputs": [
        {
          "output_type": "execute_result",
          "data": {
            "text/plain": [
              "array([[0, 1],\n",
              "       [1, 0]])"
            ]
          },
          "metadata": {},
          "execution_count": 64
        }
      ]
    },
    {
      "cell_type": "code",
      "source": [
        "np.add(sd,sd1)"
      ],
      "metadata": {
        "colab": {
          "base_uri": "https://localhost:8080/"
        },
        "id": "5aRWP98cpQ_f",
        "outputId": "2d2fb291-1a9b-4e75-c2a2-4e61d6224871"
      },
      "execution_count": 65,
      "outputs": [
        {
          "output_type": "execute_result",
          "data": {
            "text/plain": [
              "array([[4, 3],\n",
              "       [3, 4]])"
            ]
          },
          "metadata": {},
          "execution_count": 65
        }
      ]
    },
    {
      "cell_type": "code",
      "source": [
        "np.multiply(sd,sd1)"
      ],
      "metadata": {
        "colab": {
          "base_uri": "https://localhost:8080/"
        },
        "id": "IeB9pAKBpZ0r",
        "outputId": "f09f6cac-9c60-4e5a-b555-dc77a65ce843"
      },
      "execution_count": 66,
      "outputs": [
        {
          "output_type": "execute_result",
          "data": {
            "text/plain": [
              "array([[4, 2],\n",
              "       [2, 4]])"
            ]
          },
          "metadata": {},
          "execution_count": 66
        }
      ]
    },
    {
      "cell_type": "code",
      "source": [
        "np.divide(sd,sd1)"
      ],
      "metadata": {
        "colab": {
          "base_uri": "https://localhost:8080/"
        },
        "id": "nkZCXbBzpf6L",
        "outputId": "867997c4-34b9-47b2-8986-bbfb61a9e326"
      },
      "execution_count": 67,
      "outputs": [
        {
          "output_type": "execute_result",
          "data": {
            "text/plain": [
              "array([[1., 2.],\n",
              "       [2., 1.]])"
            ]
          },
          "metadata": {},
          "execution_count": 67
        }
      ]
    },
    {
      "cell_type": "markdown",
      "source": [
        "**8.**Use NumPy to create a 5x5 identity matrix, then extract its diagonal elements."
      ],
      "metadata": {
        "id": "H2bVNm_Cp6zg"
      }
    },
    {
      "cell_type": "code",
      "source": [
        "mt  = np.random.randint(1,3,(5,5))"
      ],
      "metadata": {
        "id": "Bro-GGG9p_Dr"
      },
      "execution_count": 85,
      "outputs": []
    },
    {
      "cell_type": "code",
      "source": [
        "mt"
      ],
      "metadata": {
        "colab": {
          "base_uri": "https://localhost:8080/"
        },
        "id": "y9PVrHSAp_95",
        "outputId": "54e085b8-8609-43b3-a1e7-3ba3f6bf5698"
      },
      "execution_count": 86,
      "outputs": [
        {
          "output_type": "execute_result",
          "data": {
            "text/plain": [
              "array([[2, 1, 1, 2, 2],\n",
              "       [2, 2, 2, 1, 1],\n",
              "       [1, 1, 2, 2, 1],\n",
              "       [1, 1, 1, 1, 2],\n",
              "       [2, 1, 1, 2, 1]])"
            ]
          },
          "metadata": {},
          "execution_count": 86
        }
      ]
    },
    {
      "cell_type": "code",
      "source": [
        "mt.diagonal()"
      ],
      "metadata": {
        "colab": {
          "base_uri": "https://localhost:8080/"
        },
        "id": "HC2EErN5rW1I",
        "outputId": "0b8be720-7c31-4afb-c48e-a82e0d2e8f7a"
      },
      "execution_count": 87,
      "outputs": [
        {
          "output_type": "execute_result",
          "data": {
            "text/plain": [
              "array([2, 2, 2, 1, 1])"
            ]
          },
          "metadata": {},
          "execution_count": 87
        }
      ]
    },
    {
      "cell_type": "markdown",
      "source": [],
      "metadata": {
        "id": "r7jmG-39tL2u"
      }
    },
    {
      "cell_type": "markdown",
      "source": [
        "**9.**Generate a NumPy array of 100 random integers between 0 and 1000. Find and display all prime numbers in\n",
        "this array."
      ],
      "metadata": {
        "id": "bD6L4bK4tMMS"
      }
    },
    {
      "cell_type": "code",
      "source": [
        "import math"
      ],
      "metadata": {
        "id": "_VEfveZhtV3T"
      },
      "execution_count": 93,
      "outputs": []
    },
    {
      "cell_type": "code",
      "source": [
        "pri = np.random.randint(0,1000,100)"
      ],
      "metadata": {
        "id": "7xMlhr45vKeU"
      },
      "execution_count": 94,
      "outputs": []
    },
    {
      "cell_type": "code",
      "source": [
        "pri"
      ],
      "metadata": {
        "colab": {
          "base_uri": "https://localhost:8080/"
        },
        "id": "kKEHA9tUti11",
        "outputId": "1821d4ea-e4be-49d8-c4cc-2e18b7678651"
      },
      "execution_count": 95,
      "outputs": [
        {
          "output_type": "execute_result",
          "data": {
            "text/plain": [
              "array([121, 391, 867, 328, 626, 193,  41, 505, 573, 314, 942, 254, 335,\n",
              "       584, 993, 396, 669, 632, 614, 950, 793, 838, 841, 739, 615,  87,\n",
              "       665, 506, 670, 996, 808, 779, 392, 307, 276, 352, 389, 324, 111,\n",
              "       245, 632, 254, 105, 901,  54,  69, 685, 781, 927, 279, 299, 593,\n",
              "       145, 447, 295, 114, 994, 839, 511, 904, 854, 950, 502, 117, 390,\n",
              "       167,  87, 342, 260, 416, 926, 792, 841, 207, 916, 911, 631, 179,\n",
              "       336, 608, 490, 906, 308, 522, 557, 107, 863, 891,  15, 962, 336,\n",
              "       352, 107, 765, 221, 222, 204, 771, 960, 512])"
            ]
          },
          "metadata": {},
          "execution_count": 95
        }
      ]
    },
    {
      "cell_type": "code",
      "source": [
        "def is_prime(n):\n",
        "    if n % 2 == 0 and n > 2:\n",
        "        return False\n",
        "    return all(n % i for i in range(3, int(math.sqrt(n)) + 1, 2))"
      ],
      "metadata": {
        "id": "tyZ0WKpntlOJ"
      },
      "execution_count": 102,
      "outputs": []
    },
    {
      "cell_type": "code",
      "source": [
        "foo = np.vectorize(is_prime)\n",
        "pbools = foo(pri)\n",
        "primes = np.extract(pbools, pri)"
      ],
      "metadata": {
        "id": "xZAirbGqxO3V"
      },
      "execution_count": 103,
      "outputs": []
    },
    {
      "cell_type": "code",
      "source": [
        "primes"
      ],
      "metadata": {
        "colab": {
          "base_uri": "https://localhost:8080/"
        },
        "id": "yP8997OQxmhi",
        "outputId": "f2595194-9a1e-40d8-f92b-b29a408c8623"
      },
      "execution_count": 105,
      "outputs": [
        {
          "output_type": "execute_result",
          "data": {
            "text/plain": [
              "array([193,  41, 739, 307, 389, 593, 839, 167, 911, 631, 179, 557, 107,\n",
              "       863, 107])"
            ]
          },
          "metadata": {},
          "execution_count": 105
        }
      ]
    },
    {
      "cell_type": "markdown",
      "source": [
        "**10.**Create a NumPy array representing daily temperatures for a month. Calculate and display the weekly\n",
        "averages."
      ],
      "metadata": {
        "id": "-hKQk_teyBlr"
      }
    },
    {
      "cell_type": "code",
      "source": [
        "tem = np.random.randint(10,40,30)"
      ],
      "metadata": {
        "id": "XX_-nPtsyro0"
      },
      "execution_count": 123,
      "outputs": []
    },
    {
      "cell_type": "code",
      "source": [
        "tem"
      ],
      "metadata": {
        "colab": {
          "base_uri": "https://localhost:8080/"
        },
        "id": "N1rgYdRu0FGU",
        "outputId": "b48ef4fa-6f0c-4aa1-e0e1-579b162c847c"
      },
      "execution_count": 124,
      "outputs": [
        {
          "output_type": "execute_result",
          "data": {
            "text/plain": [
              "array([19, 39, 15, 21, 21, 31, 22, 17, 37, 22, 12, 37, 25, 10, 24, 20, 30,\n",
              "       37, 38, 32, 36, 28, 13, 39, 17, 30, 19, 22, 16, 10])"
            ]
          },
          "metadata": {},
          "execution_count": 124
        }
      ]
    },
    {
      "cell_type": "code",
      "source": [
        "np.average(tem)"
      ],
      "metadata": {
        "colab": {
          "base_uri": "https://localhost:8080/"
        },
        "id": "mUGcXmCM2rrh",
        "outputId": "c1e41ba2-7b38-4bef-aebe-66d67f01622a"
      },
      "execution_count": 128,
      "outputs": [
        {
          "output_type": "execute_result",
          "data": {
            "text/plain": [
              "24.633333333333333"
            ]
          },
          "metadata": {},
          "execution_count": 128
        }
      ]
    }
  ]
}