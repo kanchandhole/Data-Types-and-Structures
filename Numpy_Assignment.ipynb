{
  "nbformat": 4,
  "nbformat_minor": 0,
  "metadata": {
    "colab": {
      "provenance": [],
      "authorship_tag": "ABX9TyPRDARQwS8wXbvJLYzvgsVi",
      "include_colab_link": true
    },
    "kernelspec": {
      "name": "python3",
      "display_name": "Python 3"
    },
    "language_info": {
      "name": "python"
    }
  },
  "cells": [
    {
      "cell_type": "markdown",
      "metadata": {
        "id": "view-in-github",
        "colab_type": "text"
      },
      "source": [
        "<a href=\"https://colab.research.google.com/github/kanchandhole/Python-assignment/blob/main/Numpy_Assignment.ipynb\" target=\"_parent\"><img src=\"https://colab.research.google.com/assets/colab-badge.svg\" alt=\"Open In Colab\"/></a>"
      ]
    },
    {
      "cell_type": "markdown",
      "source": [
        "**1.**Explain the purpose and advantages of NumPy in scientific computing and data analysis. How does it\n",
        "enhance Python's capabilities for numerical operations?\n",
        "\n",
        "**Ans:**-NumPy is a fundamental Python library for scientific computing and data analysis, providing highly optimized multi-dimensional arrays and a wide range of mathematical functions, significantly enhancing Python's capabilities for numerical operations by enabling fast, efficient computations on large datasets, especially when compared to standard Python lists, due to its optimized memory allocation and vectorized operations\n",
        "\n",
        "**Key advantages of NumPy:**\n",
        "\n",
        "**Performance:**\n",
        "\n",
        "NumPy arrays are stored in contiguous memory blocks and leverage compiled C code for operations, resulting in significantly faster computations compared to Python lists, particularly for large datasets and complex mathematical calculations.\n",
        "\n",
        "**Vectorization:**\n",
        "NumPy allows performing operations on entire arrays at once, eliminating the need for explicit loops and significantly improving performance for element-wise operations.\n",
        "\n",
        "**Multi-dimensional arrays:**\n",
        "\n",
        "NumPy's core data structure is the \"ndarray\" which can represent multi-dimensional arrays (matrices, tensors), making it ideal for handling complex data structures in scientific computing.\n",
        "\n",
        "**Extensive mathematical functions:**\n",
        "\n",
        "NumPy provides a rich collection of mathematical functions like trigonometric operations, linear algebra routines, statistical calculations, and more, streamlining complex numerical computations.\n",
        "\n",
        "**Integration with other libraries:**\n",
        "\n",
        "NumPy is the foundation for many other scientific Python libraries like SciPy, Pandas, and Matplotlib, enabling seamless integration and data flow between different analysis stages\n",
        "\n",
        "**How NumPy enhances Python for numerical operations:**\n",
        "\n",
        "Efficient data manipulation:\n",
        "\n",
        "By providing optimized array operations, NumPy allows for fast manipulation of large datasets with complex data structures.\n",
        "\n",
        "Concise code:\n",
        "\n",
        "Vectorized operations enable writing concise code that performs calculations on entire arrays with minimal loops, improving readability and maintainability.\n",
        "Advanced mathematical capabilities:\n",
        "NumPy's extensive mathematical functions provide access to powerful tools for complex calculations like matrix operations, eigenvalue decomposition, and more."
      ],
      "metadata": {
        "id": "n-CX_ka2CajA"
      }
    },
    {
      "cell_type": "markdown",
      "source": [
        "**2.**Compare and contrast np.mean() and np.average() functions in NumPy. When would you use one over the\n",
        "other?\n",
        "\n",
        "**ans:**\n",
        "\n",
        "**np.mean()**\n",
        "Use to calculate arithmetic mean.\n",
        "\n",
        "All elements have equal weight\n",
        "\n",
        "Weight cannot be passed trough the parameter of the given function.\n",
        "\n",
        "Syntax :\n",
        "\n",
        "np.mean(arr, axis = None)\n",
        "\n",
        "where ‘arr’ is the given array.\n",
        "\n",
        "**np.average()**\n",
        "\n",
        "Use to calculate the arithmetic mean as well as weighted average.\n",
        "\n",
        "\n",
        "All elements may or may not have equal weight.\n",
        "\n",
        "\n",
        "Weight can be passed through the parameter of the given function.\n",
        "\n",
        "Syntax :\n",
        "\n",
        "np.mean(arr, axis = None)\n",
        "\n",
        "where ‘arr’ is the given array.\n",
        "\n",
        "Syntax :\n",
        "\n",
        "numpy.average(arr, axis = None, weights = None)\n",
        "\n",
        "Where ‘arr’ is the given array\n",
        "\n"
      ],
      "metadata": {
        "id": "8UegNVD8D_p5"
      }
    },
    {
      "cell_type": "markdown",
      "source": [
        "**3.**Describe the methods for reversing a NumPy array along different axes. Provide examples for 1D and 2D\n",
        "arrays.\n",
        "\n",
        "**Ans:**\n",
        "Using flip() function to Reverse a Numpy array\n",
        "The numpy.flip() function reverses the order of array elements along the specified axis, preserving the shape of the array.\n",
        "\n"
      ],
      "metadata": {
        "id": "k1Vk9oeBFkRW"
      }
    },
    {
      "cell_type": "code",
      "source": [
        "import numpy as np"
      ],
      "metadata": {
        "id": "CWvyx5BpH2CT"
      },
      "execution_count": 4,
      "outputs": []
    },
    {
      "cell_type": "code",
      "source": [
        "#1D Array:\n",
        "d1 = np.array([1, 2, 3, 4, 5])"
      ],
      "metadata": {
        "id": "QIihv1EZHgW0"
      },
      "execution_count": 5,
      "outputs": []
    },
    {
      "cell_type": "code",
      "source": [
        "d1"
      ],
      "metadata": {
        "colab": {
          "base_uri": "https://localhost:8080/"
        },
        "id": "-gu1GrnsH6Hh",
        "outputId": "1c6f570d-95e1-4d57-c173-c878460c9c81"
      },
      "execution_count": 7,
      "outputs": [
        {
          "output_type": "execute_result",
          "data": {
            "text/plain": [
              "array([1, 2, 3, 4, 5])"
            ]
          },
          "metadata": {},
          "execution_count": 7
        }
      ]
    },
    {
      "cell_type": "code",
      "source": [
        "np.flip(d1)"
      ],
      "metadata": {
        "colab": {
          "base_uri": "https://localhost:8080/"
        },
        "id": "wuAempn0H9ls",
        "outputId": "ca0b187b-c6d7-4056-8b01-1c2a2d01df3b"
      },
      "execution_count": 8,
      "outputs": [
        {
          "output_type": "execute_result",
          "data": {
            "text/plain": [
              "array([5, 4, 3, 2, 1])"
            ]
          },
          "metadata": {},
          "execution_count": 8
        }
      ]
    },
    {
      "cell_type": "code",
      "source": [
        "import random"
      ],
      "metadata": {
        "id": "E2RRtbtXJJW6"
      },
      "execution_count": 21,
      "outputs": []
    },
    {
      "cell_type": "code",
      "source": [
        "d2 = np.random.randint(1,3, size=(2,2))"
      ],
      "metadata": {
        "id": "OP0XoRbNICdE"
      },
      "execution_count": 25,
      "outputs": []
    },
    {
      "cell_type": "code",
      "source": [
        "d2"
      ],
      "metadata": {
        "colab": {
          "base_uri": "https://localhost:8080/"
        },
        "id": "UmOK0qrFIcoX",
        "outputId": "56b7ccd0-8145-4e3f-c806-f49b457de6bb"
      },
      "execution_count": 26,
      "outputs": [
        {
          "output_type": "execute_result",
          "data": {
            "text/plain": [
              "array([[2, 1],\n",
              "       [1, 1]])"
            ]
          },
          "metadata": {},
          "execution_count": 26
        }
      ]
    },
    {
      "cell_type": "code",
      "source": [
        "np.flip(d2)"
      ],
      "metadata": {
        "colab": {
          "base_uri": "https://localhost:8080/"
        },
        "id": "Jb7pLIdWIwDe",
        "outputId": "2a0f9957-c609-410b-f989-b357521be12e"
      },
      "execution_count": 27,
      "outputs": [
        {
          "output_type": "execute_result",
          "data": {
            "text/plain": [
              "array([[1, 1],\n",
              "       [1, 2]])"
            ]
          },
          "metadata": {},
          "execution_count": 27
        }
      ]
    },
    {
      "cell_type": "markdown",
      "source": [
        "**4.**How can you determine the data type of elements in a NumPy array? Discuss the importance of data types\n",
        "in memory management and performance.\n",
        "\n",
        "**Ans:**The list of various types of data types provided by NumPy are given below:\n",
        "\n",
        "A data type in NumPy is used to specify the type of data stored in a variable. Here is the list of characters available in NumPy to represent data types.\n",
        "\n",
        "Character\n",
        "\n",
        "Meaning\n",
        "\n",
        "b  --Boolean\n",
        "\n",
        "f --Float\n",
        "\n",
        "m ---Time Delta\n",
        "\n",
        "O --Object\n",
        "\n",
        "U  --Unicode String\n",
        "\n",
        "i ---Integer\n",
        "\n",
        "u  --- Unsigned Integer\n",
        "\n",
        "c --- Complex Float\n",
        "\n",
        "M --  DateTime\n",
        "\n",
        "S --- String\n",
        "\n",
        "V --- A fixed chunk of memory for other types (void)\n",
        "\n"
      ],
      "metadata": {
        "id": "yg8NBOLPJo0Z"
      }
    },
    {
      "cell_type": "code",
      "source": [
        "ar1 = np.array([1,2,3,4])"
      ],
      "metadata": {
        "id": "u9ljiL1gLi6z"
      },
      "execution_count": 28,
      "outputs": []
    },
    {
      "cell_type": "code",
      "source": [
        "ar1"
      ],
      "metadata": {
        "colab": {
          "base_uri": "https://localhost:8080/"
        },
        "id": "UFPIpKabLpmq",
        "outputId": "2b3703ab-9eb8-47bc-9b5a-e66a066fc7c3"
      },
      "execution_count": 29,
      "outputs": [
        {
          "output_type": "execute_result",
          "data": {
            "text/plain": [
              "array([1, 2, 3, 4])"
            ]
          },
          "metadata": {},
          "execution_count": 29
        }
      ]
    },
    {
      "cell_type": "code",
      "source": [
        "ar1.dtype"
      ],
      "metadata": {
        "colab": {
          "base_uri": "https://localhost:8080/"
        },
        "id": "vOUdsiqxLrbg",
        "outputId": "8a7d8598-331e-4efc-f561-08849861d94e"
      },
      "execution_count": 30,
      "outputs": [
        {
          "output_type": "execute_result",
          "data": {
            "text/plain": [
              "dtype('int64')"
            ]
          },
          "metadata": {},
          "execution_count": 30
        }
      ]
    },
    {
      "cell_type": "markdown",
      "source": [
        "**5.**Define ndarrays in NumPy and explain their key features. How do they differ from standard Python lists?\n",
        "\n",
        "**Ans:**\n",
        "ndarray((short for N-dimensional array)) is a core object in NumPy. It is a homogeneous array which means it can hold elements of the same data type. It is a multi-dimensional data structure that enables fast and efficient manipulation of large dataset\n",
        "\n",
        "1D array\n",
        "arr1 = np.array([1, 2, 3, 4, 5])\n",
        "\n",
        "2D array\n",
        "arr2 = np.array([[1, 2, 3], [4, 5, 6]])\n",
        "\n",
        "3D array\n",
        "arr3 = np.array([[[1, 2], [3, 4]], [[5, 6], [7, 8]]])\n",
        "\n",
        "**differ from list**\n",
        "\n",
        " In contrast to lists, NumPy arrays are stored in a single continuous location in memory, making it very easyfor programs to access and manipulate them\n",
        " In computer science, this behavior is known as locality of reference\n",
        " This is the primary factor that makes NumPy faster than lists. Additionally, it is enhanced to function with modern CPU architectures.\n"
      ],
      "metadata": {
        "id": "TQHIjRMpPeRM"
      }
    },
    {
      "cell_type": "markdown",
      "source": [
        "**6.**Analyze the performance benefits of NumPy arrays over Python lists for large-scale numerical operations.\n",
        "\n",
        "**Ans:**\n",
        "NumPy offers faster computation and efficient handling of large datasets compared to traditional Python lists. It provides powerful mathematical functions and operations, simplifying complex tasks. Additionally, NumPy arrays occupy less memory space, enhancing performance in scientific computing and data analysis"
      ],
      "metadata": {
        "id": "tkzODbmMQqDM"
      }
    },
    {
      "cell_type": "markdown",
      "source": [
        "**7.**Compare vstack() and hstack() functions in NumPy. Provide examples demonstrating their usage and\n",
        "output.\n",
        "\n",
        "**Ans:**\n",
        "In NumPy, vstack() is used to vertically stack arrays, meaning it combines them row-wise, while hstack() horizontally stacks arrays, combining them column-wise; essentially,"
      ],
      "metadata": {
        "id": "OGeUTGruQ268"
      }
    },
    {
      "cell_type": "code",
      "source": [
        "arr1 = np.array([[1, 2], [3, 4]])"
      ],
      "metadata": {
        "id": "BewobDd9RkJd"
      },
      "execution_count": 31,
      "outputs": []
    },
    {
      "cell_type": "code",
      "source": [
        "arr1"
      ],
      "metadata": {
        "colab": {
          "base_uri": "https://localhost:8080/"
        },
        "id": "2ErK1KQzSZpb",
        "outputId": "ad4d72be-8d0a-467d-9003-e701c5220fcb"
      },
      "execution_count": 35,
      "outputs": [
        {
          "output_type": "execute_result",
          "data": {
            "text/plain": [
              "array([[1, 2],\n",
              "       [3, 4]])"
            ]
          },
          "metadata": {},
          "execution_count": 35
        }
      ]
    },
    {
      "cell_type": "code",
      "source": [
        "np.vstack(arr1)"
      ],
      "metadata": {
        "colab": {
          "base_uri": "https://localhost:8080/"
        },
        "id": "ODoIB78pRlkU",
        "outputId": "b85289d8-81a3-4f20-c813-ac97ef44fddf"
      },
      "execution_count": 32,
      "outputs": [
        {
          "output_type": "execute_result",
          "data": {
            "text/plain": [
              "array([[1, 2],\n",
              "       [3, 4]])"
            ]
          },
          "metadata": {},
          "execution_count": 32
        }
      ]
    },
    {
      "cell_type": "code",
      "source": [
        "np.hstack(arr1)"
      ],
      "metadata": {
        "colab": {
          "base_uri": "https://localhost:8080/"
        },
        "id": "sSnD8Mz-Rq_-",
        "outputId": "6158f66c-16b0-4844-c9d6-9f41682b6418"
      },
      "execution_count": 33,
      "outputs": [
        {
          "output_type": "execute_result",
          "data": {
            "text/plain": [
              "array([1, 2, 3, 4])"
            ]
          },
          "metadata": {},
          "execution_count": 33
        }
      ]
    },
    {
      "cell_type": "markdown",
      "source": [
        "**8.**Explain the differences between fliplr() and flipud() methods in NumPy, including their effects on various\n",
        "array dimensions.\n",
        "\n",
        "**Ans:-**\n",
        "In NumPy, fliplr() flips an array along its columns (left to right), essentially mirroring it horizontally, while flipud() flips an array along its rows (up to down)."
      ],
      "metadata": {
        "id": "ffk7Bh4KR0SR"
      }
    },
    {
      "cell_type": "code",
      "source": [
        "np.fliplr(arr1)"
      ],
      "metadata": {
        "colab": {
          "base_uri": "https://localhost:8080/"
        },
        "id": "cVfzmMdySPeG",
        "outputId": "aef5c0d3-e838-4efd-c1a6-e0e4ac94db91"
      },
      "execution_count": 34,
      "outputs": [
        {
          "output_type": "execute_result",
          "data": {
            "text/plain": [
              "array([[2, 1],\n",
              "       [4, 3]])"
            ]
          },
          "metadata": {},
          "execution_count": 34
        }
      ]
    },
    {
      "cell_type": "code",
      "source": [
        "np.flipud(arr1)"
      ],
      "metadata": {
        "colab": {
          "base_uri": "https://localhost:8080/"
        },
        "id": "jPnkNZTvSeVu",
        "outputId": "cda0580e-b4b9-4aa2-c21a-e3a20dec8272"
      },
      "execution_count": 36,
      "outputs": [
        {
          "output_type": "execute_result",
          "data": {
            "text/plain": [
              "array([[3, 4],\n",
              "       [1, 2]])"
            ]
          },
          "metadata": {},
          "execution_count": 36
        }
      ]
    },
    {
      "cell_type": "markdown",
      "source": [
        "**9.**Discuss the functionality of the array_split() method in NumPy. How does it handle uneven splits?\n",
        "\n",
        "**Ans:**array_split() s plitting into equal or nearly equal sub-arrays or is similar to numpy. split(), but it allows for uneven splitting of arrays. This is useful when the array cannot be evenly divided by the specified number of splits"
      ],
      "metadata": {
        "id": "toFDiMggSt_g"
      }
    },
    {
      "cell_type": "code",
      "source": [
        "Arr = np.array([1, 2, 3, 4, 5, 6])"
      ],
      "metadata": {
        "id": "Q8_FRfJ2TCGD"
      },
      "execution_count": 40,
      "outputs": []
    },
    {
      "cell_type": "code",
      "source": [
        "np.split(Arr, 3)"
      ],
      "metadata": {
        "colab": {
          "base_uri": "https://localhost:8080/"
        },
        "id": "iyrrIoQ5TvjT",
        "outputId": "4f699133-b276-4c64-e999-6a38cd968668"
      },
      "execution_count": 41,
      "outputs": [
        {
          "output_type": "execute_result",
          "data": {
            "text/plain": [
              "[array([1, 2]), array([3, 4]), array([5, 6])]"
            ]
          },
          "metadata": {},
          "execution_count": 41
        }
      ]
    },
    {
      "cell_type": "markdown",
      "source": [
        "**10.**Explain the concepts of vectorization and broadcasting in NumPy. How do they contribute to efficient array\n",
        "operations?\n",
        "\n",
        "**Ans:**\n",
        "**Broadcasting** simplifies mathematical operations on arrays with different shapes. It enables NumPy to efficiently apply operations element-wise without explicitly copying or reshaping data.\n",
        "\n",
        "Example 1 : Broadcasting Array in Single Value and 1D Addition\n",
        "The code creates a NumPy array arr with values [1, 2, 3]. It adds 1 to each element using broadcasting, resulting in [2, 3, 4], and prints the updated array.\n",
        "\n",
        "arr = np.array([1, 2, 3])\n",
        "\n",
        "res = arr + 1  \n",
        "\n",
        "**Vectorization** is the process of converting an algorithm from operating on a single value at a time to operating on a set of values (vector) at one time. Hence, we can use these techniques to perform operations on Numpy arrays without using loops"
      ],
      "metadata": {
        "id": "E3rxkyEiX5fR"
      }
    }
  ]
}