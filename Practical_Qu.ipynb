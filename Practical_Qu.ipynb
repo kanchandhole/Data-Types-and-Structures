{
  "nbformat": 4,
  "nbformat_minor": 0,
  "metadata": {
    "colab": {
      "provenance": [],
      "authorship_tag": "ABX9TyOolQMWgOBw2u1BagimNvAW",
      "include_colab_link": true
    },
    "kernelspec": {
      "name": "python3",
      "display_name": "Python 3"
    },
    "language_info": {
      "name": "python"
    }
  },
  "cells": [
    {
      "cell_type": "markdown",
      "metadata": {
        "id": "view-in-github",
        "colab_type": "text"
      },
      "source": [
        "<a href=\"https://colab.research.google.com/github/kanchandhole/Data-Types-and-Structures/blob/main/Practical_Qu.ipynb\" target=\"_parent\"><img src=\"https://colab.research.google.com/assets/colab-badge.svg\" alt=\"Open In Colab\"/></a>"
      ]
    },
    {
      "cell_type": "markdown",
      "source": [
        "**1.**Write a code to create a string with your name and print it?\n",
        "\n",
        "\n",
        "\n"
      ],
      "metadata": {
        "id": "5P3cjTKCrepU"
      }
    },
    {
      "cell_type": "code",
      "source": [
        "print(\"kanchan\")"
      ],
      "metadata": {
        "colab": {
          "base_uri": "https://localhost:8080/"
        },
        "id": "tc3FQI5urpOZ",
        "outputId": "65f43966-9da2-488a-8256-3db96ee65150"
      },
      "execution_count": null,
      "outputs": [
        {
          "output_type": "stream",
          "name": "stdout",
          "text": [
            "kanchan\n"
          ]
        }
      ]
    },
    {
      "cell_type": "markdown",
      "source": [
        "**2.**Write a code to find the length of the string \"Hello World\"?"
      ],
      "metadata": {
        "id": "J-8FElJzr-mn"
      }
    },
    {
      "cell_type": "code",
      "source": [
        "S=\"Hello World\"\n",
        "print(len(S))"
      ],
      "metadata": {
        "colab": {
          "base_uri": "https://localhost:8080/"
        },
        "id": "DjWOHTo4sPNZ",
        "outputId": "4fe777d3-d6d5-4864-eda0-1ed3ac142365"
      },
      "execution_count": null,
      "outputs": [
        {
          "output_type": "stream",
          "name": "stdout",
          "text": [
            "11\n"
          ]
        }
      ]
    },
    {
      "cell_type": "markdown",
      "source": [
        "**3.**Write a code to slice the first 3 characters from the string \"Python Programming\"."
      ],
      "metadata": {
        "id": "jCA7dfsiuG16"
      }
    },
    {
      "cell_type": "code",
      "source": [
        "P=\"Python Programming\"\n",
        "print(P[0:3])"
      ],
      "metadata": {
        "colab": {
          "base_uri": "https://localhost:8080/"
        },
        "id": "TLdAJ2gmuR_-",
        "outputId": "c3518d38-cbfd-4dc1-92f6-5ac88808ffc9"
      },
      "execution_count": null,
      "outputs": [
        {
          "output_type": "stream",
          "name": "stdout",
          "text": [
            "Pyt\n"
          ]
        }
      ]
    },
    {
      "cell_type": "markdown",
      "source": [
        "**4.**Write a code to convert the string \"hello\" to uppercase?"
      ],
      "metadata": {
        "id": "ywi1U5nAvBWM"
      }
    },
    {
      "cell_type": "code",
      "source": [
        "H=\"hello\"\n",
        "x= H.upper()\n",
        "print(x)"
      ],
      "metadata": {
        "colab": {
          "base_uri": "https://localhost:8080/"
        },
        "id": "7XjPGKuovKmq",
        "outputId": "efe4e17c-483d-4a61-a871-38c937e5c60b"
      },
      "execution_count": null,
      "outputs": [
        {
          "output_type": "stream",
          "name": "stdout",
          "text": [
            "HELLO\n"
          ]
        }
      ]
    },
    {
      "cell_type": "markdown",
      "source": [
        "**6.**Write a code to replace the word \"apple\" with \"orange\" in the string \"I like apple\"?"
      ],
      "metadata": {
        "id": "ADiZmbwDwTjn"
      }
    },
    {
      "cell_type": "code",
      "source": [
        "y= \"i like apple\""
      ],
      "metadata": {
        "id": "v_OM1RvzwzlG"
      },
      "execution_count": null,
      "outputs": []
    },
    {
      "cell_type": "code",
      "source": [
        "text= y.replace(\"apple\",\"orange\")\n",
        "print(text)"
      ],
      "metadata": {
        "colab": {
          "base_uri": "https://localhost:8080/"
        },
        "id": "WMkxjhOkw_T7",
        "outputId": "ce68b66c-6265-4905-9dd7-c19599682dd0"
      },
      "execution_count": null,
      "outputs": [
        {
          "output_type": "stream",
          "name": "stdout",
          "text": [
            "i like orange\n"
          ]
        }
      ]
    },
    {
      "cell_type": "markdown",
      "source": [
        "**7.**Write a code to create a list with numbers 1 to 5 and print it."
      ],
      "metadata": {
        "id": "cZFUaVWSxWXM"
      }
    },
    {
      "cell_type": "code",
      "source": [
        "n=5\n",
        "for i in range(1,n+1):\n",
        "  print(i)"
      ],
      "metadata": {
        "colab": {
          "base_uri": "https://localhost:8080/"
        },
        "id": "E8ynbg4Rxaj7",
        "outputId": "10ef5c3f-1659-4550-aeeb-6c66454da699"
      },
      "execution_count": null,
      "outputs": [
        {
          "output_type": "stream",
          "name": "stdout",
          "text": [
            "1\n",
            "2\n",
            "3\n",
            "4\n",
            "5\n"
          ]
        }
      ]
    },
    {
      "cell_type": "markdown",
      "source": [
        "**8.**Write a code to append the number 10 to the list [1, 2, 3, 4]?"
      ],
      "metadata": {
        "id": "JVVHkBK3ztbV"
      }
    },
    {
      "cell_type": "code",
      "source": [
        "list=[1,2,3,4]\n",
        "list.append(10)\n",
        "print(list)"
      ],
      "metadata": {
        "colab": {
          "base_uri": "https://localhost:8080/"
        },
        "id": "bhWPOje7zx1p",
        "outputId": "6417f661-9103-44c8-c3b7-a4f1cd2f97c1"
      },
      "execution_count": null,
      "outputs": [
        {
          "output_type": "stream",
          "name": "stdout",
          "text": [
            "[1, 2, 3, 4, 10]\n"
          ]
        }
      ]
    },
    {
      "cell_type": "markdown",
      "source": [
        "**9.**Write a code to remove the number 3 from the list [1, 2, 3, 4, 5]?"
      ],
      "metadata": {
        "id": "sNWMstsez72D"
      }
    },
    {
      "cell_type": "code",
      "source": [
        "list1=[1,2,3,4,5]\n",
        "list1.remove(3)\n",
        "print(list1)"
      ],
      "metadata": {
        "colab": {
          "base_uri": "https://localhost:8080/"
        },
        "id": "KO1NPoaS0GuG",
        "outputId": "81e6ed3c-056b-4761-fed4-cdd19e52e8b5"
      },
      "execution_count": null,
      "outputs": [
        {
          "output_type": "stream",
          "name": "stdout",
          "text": [
            "[1, 2, 4, 5]\n"
          ]
        }
      ]
    },
    {
      "cell_type": "markdown",
      "source": [
        "**10.**Write a code to access the second element in the list ['a', 'b', 'c', 'd']?"
      ],
      "metadata": {
        "id": "RzAk5Gol0U_c"
      }
    },
    {
      "cell_type": "code",
      "source": [
        "list=[\"a\",\"b\",\"c\",\"d\"]"
      ],
      "metadata": {
        "id": "oZrs8IrC0Z3F"
      },
      "execution_count": null,
      "outputs": []
    },
    {
      "cell_type": "code",
      "source": [
        "list[2]"
      ],
      "metadata": {
        "colab": {
          "base_uri": "https://localhost:8080/",
          "height": 36
        },
        "id": "pWnh2UJV0tFF",
        "outputId": "adb92965-7f28-459a-af92-a5f2c98c85bb"
      },
      "execution_count": null,
      "outputs": [
        {
          "output_type": "execute_result",
          "data": {
            "text/plain": [
              "'c'"
            ],
            "application/vnd.google.colaboratory.intrinsic+json": {
              "type": "string"
            }
          },
          "metadata": {},
          "execution_count": 29
        }
      ]
    },
    {
      "cell_type": "markdown",
      "source": [
        "**11.**Write a code to reverse the list [10, 20, 30, 40, 50]."
      ],
      "metadata": {
        "id": "Ji2-hYOw1TF6"
      }
    },
    {
      "cell_type": "code",
      "source": [
        "list=[10,20,30,40,50]"
      ],
      "metadata": {
        "id": "qpP2-i2E1ZzG"
      },
      "execution_count": null,
      "outputs": []
    },
    {
      "cell_type": "code",
      "source": [
        "d=list[::-1]\n",
        "print(d)"
      ],
      "metadata": {
        "colab": {
          "base_uri": "https://localhost:8080/"
        },
        "id": "1ZUdZ_ug1to1",
        "outputId": "918446fa-7fbe-404f-9c2e-5448cb8846a4"
      },
      "execution_count": null,
      "outputs": [
        {
          "output_type": "stream",
          "name": "stdout",
          "text": [
            "[50, 40, 30, 20, 10]\n"
          ]
        }
      ]
    },
    {
      "cell_type": "markdown",
      "source": [
        "**12.**Write a code to access the first element of the tuple ('apple', 'banana', 'cherry')"
      ],
      "metadata": {
        "id": "XYi1lSa4JBN0"
      }
    },
    {
      "cell_type": "code",
      "source": [
        "T=[\"apple\",\"banana\",\"cherry\"]"
      ],
      "metadata": {
        "id": "7rDcgBdXJIdx"
      },
      "execution_count": null,
      "outputs": []
    },
    {
      "cell_type": "code",
      "source": [
        "T[0]"
      ],
      "metadata": {
        "colab": {
          "base_uri": "https://localhost:8080/",
          "height": 36
        },
        "id": "CCZanqkKJSiz",
        "outputId": "eeb4e0f5-942b-4142-9c7a-fc3ffe416a44"
      },
      "execution_count": null,
      "outputs": [
        {
          "output_type": "execute_result",
          "data": {
            "text/plain": [
              "'apple'"
            ],
            "application/vnd.google.colaboratory.intrinsic+json": {
              "type": "string"
            }
          },
          "metadata": {},
          "execution_count": 18
        }
      ]
    },
    {
      "cell_type": "markdown",
      "source": [
        "**13**.Write a code to count how many times the number 2 appears in the tuple (1, 2, 3, 2, 4, 2)."
      ],
      "metadata": {
        "id": "avdvp88XJZeG"
      }
    },
    {
      "cell_type": "code",
      "source": [
        "num=[1,2,3,2,4,2]"
      ],
      "metadata": {
        "id": "eb-6yxCoJjmT"
      },
      "execution_count": null,
      "outputs": []
    },
    {
      "cell_type": "code",
      "source": [
        "num.count(2)"
      ],
      "metadata": {
        "colab": {
          "base_uri": "https://localhost:8080/"
        },
        "id": "0pvrGatMJl4q",
        "outputId": "650a2678-54c6-4a02-b3cd-358cfdd05d92"
      },
      "execution_count": null,
      "outputs": [
        {
          "output_type": "execute_result",
          "data": {
            "text/plain": [
              "3"
            ]
          },
          "metadata": {},
          "execution_count": 4
        }
      ]
    },
    {
      "cell_type": "markdown",
      "source": [
        "**14.**Write a code to find the index of the element \"cat\" in the tuple ('dog', 'cat', 'rabbit')."
      ],
      "metadata": {
        "id": "3yK10bUrKLZ5"
      }
    },
    {
      "cell_type": "code",
      "source": [
        "T1=[\"dog\",\"cat\",\"rabbit\"]"
      ],
      "metadata": {
        "id": "WnpMePB9KRbL"
      },
      "execution_count": null,
      "outputs": []
    },
    {
      "cell_type": "code",
      "source": [
        "T1.index(\"cat\")"
      ],
      "metadata": {
        "colab": {
          "base_uri": "https://localhost:8080/"
        },
        "id": "M9593r-0KmZU",
        "outputId": "a86dda7b-0a2f-4f3d-b5c2-000c46d016e4"
      },
      "execution_count": null,
      "outputs": [
        {
          "output_type": "execute_result",
          "data": {
            "text/plain": [
              "1"
            ]
          },
          "metadata": {},
          "execution_count": 6
        }
      ]
    },
    {
      "cell_type": "markdown",
      "source": [
        "**15.**Write a code to check if the element \"banana\" is in the tuple ('apple', 'orange', 'banana')."
      ],
      "metadata": {
        "id": "qhClYJdwK6B4"
      }
    },
    {
      "cell_type": "code",
      "source": [
        "T2=[\"apple\",\"orange\",\"banana\"]\n",
        "if \"banana\" in T2:\n",
        "  print(\"banana is in the tuple\")\n",
        "else:\n",
        "  print(\"banana is not in the tuple\")"
      ],
      "metadata": {
        "colab": {
          "base_uri": "https://localhost:8080/"
        },
        "id": "fQ3nDhgzLEGp",
        "outputId": "69797b4b-7a1f-4b1a-f00f-f95f4f28b281"
      },
      "execution_count": null,
      "outputs": [
        {
          "output_type": "stream",
          "name": "stdout",
          "text": [
            "banana is in the tuple\n"
          ]
        }
      ]
    },
    {
      "cell_type": "markdown",
      "source": [
        "**16**.Write a code to create a set with the elements 1, 2, 3, 4, 5 and print it."
      ],
      "metadata": {
        "id": "AnJSDrZULfrN"
      }
    },
    {
      "cell_type": "code",
      "source": [
        "S={1,2,3,4,5}\n",
        "print(S)"
      ],
      "metadata": {
        "colab": {
          "base_uri": "https://localhost:8080/"
        },
        "id": "e8T7p49GLlPL",
        "outputId": "6f1f8d12-3274-4907-dae3-93830f6fd43d"
      },
      "execution_count": null,
      "outputs": [
        {
          "output_type": "stream",
          "name": "stdout",
          "text": [
            "{1, 2, 3, 4, 5}\n"
          ]
        }
      ]
    },
    {
      "cell_type": "markdown",
      "source": [
        "**17.**Write a code to add the element 6 to the set {1, 2, 3, 4}."
      ],
      "metadata": {
        "id": "-x5Jjzb5MGj_"
      }
    },
    {
      "cell_type": "code",
      "source": [
        "S2={1,2,3,4}"
      ],
      "metadata": {
        "id": "uAhNZREGMJpW"
      },
      "execution_count": null,
      "outputs": []
    },
    {
      "cell_type": "code",
      "source": [
        "S2.add(6)\n",
        "print(S2)"
      ],
      "metadata": {
        "colab": {
          "base_uri": "https://localhost:8080/"
        },
        "id": "iUg7uJS3MPxZ",
        "outputId": "368de475-952f-40c9-8adc-860e290f6303"
      },
      "execution_count": null,
      "outputs": [
        {
          "output_type": "stream",
          "name": "stdout",
          "text": [
            "{1, 2, 3, 4, 6}\n"
          ]
        }
      ]
    },
    {
      "cell_type": "markdown",
      "source": [
        "**18.**Write a code to create a tuple with the elements 10, 20, 30 and print it."
      ],
      "metadata": {
        "id": "ngutbwzgMlDR"
      }
    },
    {
      "cell_type": "code",
      "source": [
        "T3=[10,20,30]\n",
        "print(T3)"
      ],
      "metadata": {
        "colab": {
          "base_uri": "https://localhost:8080/"
        },
        "id": "YpE4xLaZMn64",
        "outputId": "9f2e9550-e019-430f-f85d-511e9d2750ae"
      },
      "execution_count": null,
      "outputs": [
        {
          "output_type": "stream",
          "name": "stdout",
          "text": [
            "[10, 20, 30]\n"
          ]
        }
      ]
    },
    {
      "cell_type": "markdown",
      "source": [
        "**19**.Write a code to access the first element of the tuple ('apple', 'banana', 'cherry')."
      ],
      "metadata": {
        "id": "7HjO4_h6UBT4"
      }
    },
    {
      "cell_type": "code",
      "source": [
        "T=[\"apple\",\"banana\",\"cherry\"]"
      ],
      "metadata": {
        "id": "XAmSXfUIUSfW"
      },
      "execution_count": null,
      "outputs": []
    },
    {
      "cell_type": "code",
      "source": [
        "T[0]"
      ],
      "metadata": {
        "colab": {
          "base_uri": "https://localhost:8080/",
          "height": 36
        },
        "id": "qcNXfKXhUg0E",
        "outputId": "fdee573f-f111-467c-f3c3-a5842ad58848"
      },
      "execution_count": null,
      "outputs": [
        {
          "output_type": "execute_result",
          "data": {
            "text/plain": [
              "'apple'"
            ],
            "application/vnd.google.colaboratory.intrinsic+json": {
              "type": "string"
            }
          },
          "metadata": {},
          "execution_count": 17
        }
      ]
    },
    {
      "cell_type": "markdown",
      "source": [
        "**20.**Write a code to count how many times the number 2 appears in the tuple (1, 2, 3, 2, 4, 2)."
      ],
      "metadata": {
        "id": "t4pqWlY-UrkJ"
      }
    },
    {
      "cell_type": "code",
      "source": [
        "num=[1,2,3,2,4,2]"
      ],
      "metadata": {
        "id": "XQZUjV2MU5n3"
      },
      "execution_count": null,
      "outputs": []
    },
    {
      "cell_type": "code",
      "source": [
        "num.count(2)"
      ],
      "metadata": {
        "colab": {
          "base_uri": "https://localhost:8080/"
        },
        "id": "cNPaAIHjU7RE",
        "outputId": "2fbdd2a8-f7cd-451b-e4be-0424623f5b21"
      },
      "execution_count": null,
      "outputs": [
        {
          "output_type": "execute_result",
          "data": {
            "text/plain": [
              "3"
            ]
          },
          "metadata": {},
          "execution_count": 20
        }
      ]
    },
    {
      "cell_type": "markdown",
      "source": [
        "**21**.Write a code to find the index of the element \"cat\" in the tuple ('dog', 'cat', 'rabbit')"
      ],
      "metadata": {
        "id": "XkgfCekjVELp"
      }
    },
    {
      "cell_type": "code",
      "source": [
        "T1=[\"dog\",\"cat\",\"rabbit\"]\n",
        "T1.index(\"cat\")"
      ],
      "metadata": {
        "colab": {
          "base_uri": "https://localhost:8080/"
        },
        "id": "lMkRiLE_VHFA",
        "outputId": "c6b4a3dc-8b67-4976-aae0-aff8e9aa9bad"
      },
      "execution_count": null,
      "outputs": [
        {
          "output_type": "execute_result",
          "data": {
            "text/plain": [
              "1"
            ]
          },
          "metadata": {},
          "execution_count": 21
        }
      ]
    },
    {
      "cell_type": "markdown",
      "source": [
        "**22.**Write a code to check if the element \"banana\" is in the tuple ('apple', 'orange', 'banana')."
      ],
      "metadata": {
        "id": "VLvgcVJYVUxU"
      }
    },
    {
      "cell_type": "code",
      "source": [
        "T2=[\"apple\",\"orange\",\"banana\"]\n",
        "if \"banana\" in T2:\n",
        "  print(\"banana is in the tuple\")\n",
        "else:\n",
        "  print(\"banana is not in the tuple\")"
      ],
      "metadata": {
        "colab": {
          "base_uri": "https://localhost:8080/"
        },
        "id": "HBj5BPp8VfbJ",
        "outputId": "4a3b0e76-1039-4ca4-c29a-ac57d91cc408"
      },
      "execution_count": null,
      "outputs": [
        {
          "output_type": "stream",
          "name": "stdout",
          "text": [
            "banana is in the tuple\n"
          ]
        }
      ]
    },
    {
      "cell_type": "markdown",
      "source": [
        "**23**.Write a code to create a set with the elements 1, 2, 3, 4, 5 and print it"
      ],
      "metadata": {
        "id": "JTaySP08VjNW"
      }
    },
    {
      "cell_type": "code",
      "source": [
        "s4={1,2,3,4,5}\n",
        "print(s4)"
      ],
      "metadata": {
        "colab": {
          "base_uri": "https://localhost:8080/"
        },
        "id": "dFtSM-a9VxB-",
        "outputId": "e8dff810-2b9a-4130-8214-2f3c39d54f1a"
      },
      "execution_count": null,
      "outputs": [
        {
          "output_type": "stream",
          "name": "stdout",
          "text": [
            "{1, 2, 3, 4, 5}\n"
          ]
        }
      ]
    },
    {
      "cell_type": "markdown",
      "source": [
        "**24**.Write a code to add the element 6 to the set {1, 2, 3, 4}."
      ],
      "metadata": {
        "id": "hoPMcTueWFi_"
      }
    },
    {
      "cell_type": "code",
      "source": [
        "s5={1,2,3,4}"
      ],
      "metadata": {
        "id": "FLMTxSi5WIvZ"
      },
      "execution_count": null,
      "outputs": []
    },
    {
      "cell_type": "code",
      "source": [
        "s5.add(6)\n",
        "print(s5)"
      ],
      "metadata": {
        "colab": {
          "base_uri": "https://localhost:8080/"
        },
        "id": "ftaciaVPWNb8",
        "outputId": "1afe84cd-43af-4dc0-fc10-82fc76759a5b"
      },
      "execution_count": null,
      "outputs": [
        {
          "output_type": "stream",
          "name": "stdout",
          "text": [
            "{1, 2, 3, 4, 6}\n"
          ]
        }
      ]
    }
  ]
}