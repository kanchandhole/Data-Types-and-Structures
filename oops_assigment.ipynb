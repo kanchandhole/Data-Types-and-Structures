{
  "nbformat": 4,
  "nbformat_minor": 0,
  "metadata": {
    "colab": {
      "provenance": [],
      "authorship_tag": "ABX9TyMLJTj2XZa+wxmMnFGhVPZN",
      "include_colab_link": true
    },
    "kernelspec": {
      "name": "python3",
      "display_name": "Python 3"
    },
    "language_info": {
      "name": "python"
    }
  },
  "cells": [
    {
      "cell_type": "markdown",
      "metadata": {
        "id": "view-in-github",
        "colab_type": "text"
      },
      "source": [
        "<a href=\"https://colab.research.google.com/github/kanchandhole/Data-Types-and-Structures/blob/main/oops_assigment.ipynb\" target=\"_parent\"><img src=\"https://colab.research.google.com/assets/colab-badge.svg\" alt=\"Open In Colab\"/></a>"
      ]
    },
    {
      "cell_type": "markdown",
      "source": [
        "**1.**What are the five key concepts of Object-Oriented Programming (OOP)?"
      ],
      "metadata": {
        "id": "lZcETeAD7SkF"
      }
    },
    {
      "cell_type": "markdown",
      "source": [
        "**Ans:**The five key concepts of Object-Oriented Programming (OOP) are:\n",
        "\n",
        "1.Encapsulation: The process of binding data and functions together in a single construct.\n",
        "\n",
        "2.Inheritance: The process of allowing a class to inherit properties and methods from another class.\n",
        "\n",
        "3.Polymorphism: The process of allowing objects to take on multiple forms and behave differently depending on the context.\n",
        "\n",
        "4.Abstraction: The process of simplifying complex reality by modeling classes on essential properties and behaviors.\n",
        "\n",
        "5.Classes and objects: The process of creating objects and classes"
      ],
      "metadata": {
        "id": "rr20cLfa7dRM"
      }
    },
    {
      "cell_type": "markdown",
      "source": [],
      "metadata": {
        "id": "-hjXZTNn8GMQ"
      }
    },
    {
      "cell_type": "markdown",
      "source": [
        "** 2.**Write a Python class for a `Car` with attributes for `make`, `model`, and `year`. Include a method to display\n",
        "the car's information."
      ],
      "metadata": {
        "id": "w2d4XYBz8GV7"
      }
    },
    {
      "cell_type": "code",
      "source": [
        "class car():\n",
        " def make(self):\n",
        "   print(\"car is Ferrari\")\n",
        " def model(self):\n",
        "   print(\"model is 458\")\n",
        " def year(self):\n",
        "   print(\"year is 2019\")"
      ],
      "metadata": {
        "id": "qAsk22Z2oStG"
      },
      "execution_count": null,
      "outputs": []
    },
    {
      "cell_type": "code",
      "source": [
        "c=car()\n",
        "c.make()"
      ],
      "metadata": {
        "colab": {
          "base_uri": "https://localhost:8080/"
        },
        "id": "VjD_h_jopROq",
        "outputId": "57a30ac6-f28a-4a2f-e6d5-0b5369d05881"
      },
      "execution_count": null,
      "outputs": [
        {
          "output_type": "stream",
          "name": "stdout",
          "text": [
            "car is Ferrari\n"
          ]
        }
      ]
    },
    {
      "cell_type": "code",
      "source": [
        "c.model()"
      ],
      "metadata": {
        "colab": {
          "base_uri": "https://localhost:8080/"
        },
        "id": "1IZZ__Q6pZlv",
        "outputId": "3200abae-6d35-4c2e-fc06-a6d86dbfa351"
      },
      "execution_count": null,
      "outputs": [
        {
          "output_type": "stream",
          "name": "stdout",
          "text": [
            "model is 458\n"
          ]
        }
      ]
    },
    {
      "cell_type": "markdown",
      "source": [
        "**3.**Explain the difference between instance methods and class methods. Provide an example of each.\n",
        "\n",
        "Operate on individual objects, have access to the instance’s attributes, and are called on specific instances.\n",
        "\n",
        "**Ans:-**  **Instance Method:**\n",
        " used to view or change an object's state. A method is referred to as an instance\n",
        "method if it uses instance variables.\n",
        "\n",
        "\n",
        "**Class Method:**\n",
        " used to access or alter the class state. If we exclusively use class variables when\n",
        "implementing a method, we should declare that method as a class method.\n",
        "\n",
        "Operate on the class itself, have access to the class’s attributes, and are typically called on the class (not instances).\n"
      ],
      "metadata": {
        "id": "GEGdZLuGbkNH"
      }
    },
    {
      "cell_type": "code",
      "source": [
        "class Teacher:\n",
        "  def __init__(self, name):\n",
        "    self.name = name\n",
        "  def instance_method(self):\n",
        "    print(f\"this is instance method\")\n",
        "  @classmethod\n",
        "  def class_method(cls):\n",
        "    print(\"this is class method\")"
      ],
      "metadata": {
        "id": "0X9QtyeUsF1v"
      },
      "execution_count": null,
      "outputs": []
    },
    {
      "cell_type": "code",
      "source": [
        "T = Teacher('rohit')"
      ],
      "metadata": {
        "id": "XA7XDq5ls5VF"
      },
      "execution_count": null,
      "outputs": []
    },
    {
      "cell_type": "code",
      "source": [
        "T.name"
      ],
      "metadata": {
        "colab": {
          "base_uri": "https://localhost:8080/",
          "height": 36
        },
        "id": "q0MfBjt2whwc",
        "outputId": "4d2f7c37-c62f-405a-95e4-e9440c6bfc9c"
      },
      "execution_count": null,
      "outputs": [
        {
          "output_type": "execute_result",
          "data": {
            "text/plain": [
              "'rohit'"
            ],
            "application/vnd.google.colaboratory.intrinsic+json": {
              "type": "string"
            }
          },
          "metadata": {},
          "execution_count": 56
        }
      ]
    },
    {
      "cell_type": "code",
      "source": [
        "T.class_method()"
      ],
      "metadata": {
        "colab": {
          "base_uri": "https://localhost:8080/"
        },
        "id": "7q8V8LBEthmO",
        "outputId": "08cc6447-6880-41c4-daee-0b146fbd245c"
      },
      "execution_count": null,
      "outputs": [
        {
          "output_type": "stream",
          "name": "stdout",
          "text": [
            "this is class method\n"
          ]
        }
      ]
    },
    {
      "cell_type": "code",
      "source": [
        "T.instance_method()"
      ],
      "metadata": {
        "colab": {
          "base_uri": "https://localhost:8080/"
        },
        "id": "CrwtxcbLtpP-",
        "outputId": "c9dee1e9-a160-4e25-e131-ef3150aab586"
      },
      "execution_count": null,
      "outputs": [
        {
          "output_type": "stream",
          "name": "stdout",
          "text": [
            "this is instance method\n"
          ]
        }
      ]
    },
    {
      "cell_type": "markdown",
      "source": [
        "**4.**How does Python implement method overloading? Give an example.\n",
        "\n",
        "**ans:**\n",
        " Method overloading is the practice of invoking the same method more than\n",
        "once with different parameters. Method overloading is not supported by Python. Even if you overload the\n",
        "method, Python only takes into account the most recent definition. If you overload a method in Python, a\n",
        "TypeError will be raised."
      ],
      "metadata": {
        "id": "X_KRwvqrx76w"
      }
    },
    {
      "cell_type": "code",
      "source": [
        "class Calculator:\n",
        "    def add(self, a, b=0):\n",
        "        return a + b\n",
        "calc = Calculator()\n",
        "print(calc.add(10))\n",
        "print(calc.add(10, 20))"
      ],
      "metadata": {
        "colab": {
          "base_uri": "https://localhost:8080/"
        },
        "id": "l93mrQZA1LpO",
        "outputId": "fe73f02d-bdbd-4552-c198-6b8113188af1"
      },
      "execution_count": null,
      "outputs": [
        {
          "output_type": "stream",
          "name": "stdout",
          "text": [
            "10\n",
            "30\n"
          ]
        }
      ]
    },
    {
      "cell_type": "markdown",
      "source": [
        "**5.**What are the three types of access modifiers in Python? How are they denoted?\n",
        "\n",
        "**ans:**  Public Member :\n",
        " from outside of class, anywhere accessible.\n",
        "\n",
        " Private Member :\n",
        " Within the class, accessible.\n",
        " Protected Member :\n",
        "\n",
        " Public Member :\n",
        " Within the class and its subclasses, accessible.\n",
        " Both inside and outside of a class, public data members are accessible. By default, the\n",
        "class's member variables are all public."
      ],
      "metadata": {
        "id": "LnYWSpnZ1oO9"
      }
    },
    {
      "cell_type": "markdown",
      "source": [
        "**6.**Describe the five types of inheritance in Python. Provide a simple example of multiple inheritance.\n",
        "\n",
        "Ans: 1. Single Inheritance:\n",
        "In single inheritance, a class inherits from a single parent class. The child class can access and override methods and attributes from the parent class.\n",
        "\n",
        "2. Multiple Inheritance:\n",
        "In multiple inheritance, a class can inherit from more than one parent class. This allows the child class to inherit the properties and methods from multiple classes.\n",
        "\n",
        "3. Multilevel Inheritance:\n",
        "In multilevel inheritance, a class is derived from another class, which in turn is derived from another class. This creates a chain of inheritance.\n",
        "\n",
        "4. Hierarchical Inheritance:\n",
        "In hierarchical inheritance, multiple classes inherit from a single parent class. Each child class can access the methods and attributes of the parent class.\n",
        "\n",
        "5. Hybrid Inheritance:\n",
        "Hybrid inheritance is a combination of two or more types of inheritance. For example, it may involve both multiple and multilevel inheritance, creating a more complex structure."
      ],
      "metadata": {
        "id": "4hiuGcGl2CWr"
      }
    },
    {
      "cell_type": "code",
      "source": [
        "class Person:\n",
        "    def __init__(self, name, age):\n",
        "        self.name = name\n",
        "        self.age = age\n",
        "\n",
        "    def introduce(self):\n",
        "        print(f\"Hi, my name is {self.name} and I am {self.age} years old.\")\n",
        "\n",
        "class Course:\n",
        "    def __init__(self, course_name):\n",
        "        self.course_name = course_name\n",
        "\n",
        "    def display_course(self):\n",
        "        print(f\"I am enrolled in the {self.course_name} course.\")\n",
        "\n",
        "class Student(Person, Course):\n",
        "    def __init__(self, name, age, course_name):\n",
        "        Person.__init__(self, name, age)  # Initialize Person part\n",
        "        Course.__init__(self, course_name)  # Initialize Course part\n",
        "\n",
        "    def study(self):\n",
        "        print(f\"{self.name} is studying the {self.course_name} course.\")\n",
        "\n",
        "# Create an instance of Student\n",
        "student = Student(\"Alice\", 20, \"Python Programming\")"
      ],
      "metadata": {
        "id": "eh8pBYQ62_z0"
      },
      "execution_count": null,
      "outputs": []
    },
    {
      "cell_type": "code",
      "source": [
        "student.introduce()"
      ],
      "metadata": {
        "colab": {
          "base_uri": "https://localhost:8080/"
        },
        "id": "GocVIk7w3N7b",
        "outputId": "51ba94c8-319d-42b1-eff9-067ed06d9e88"
      },
      "execution_count": null,
      "outputs": [
        {
          "output_type": "stream",
          "name": "stdout",
          "text": [
            "Hi, my name is Alice and I am 20 years old.\n"
          ]
        }
      ]
    },
    {
      "cell_type": "code",
      "source": [
        "student.display_course()"
      ],
      "metadata": {
        "colab": {
          "base_uri": "https://localhost:8080/"
        },
        "id": "eCvqvX9s3V23",
        "outputId": "37c55427-cb1c-4464-8f5f-b763d6883bd1"
      },
      "execution_count": null,
      "outputs": [
        {
          "output_type": "stream",
          "name": "stdout",
          "text": [
            "I am enrolled in the Python Programming course.\n"
          ]
        }
      ]
    },
    {
      "cell_type": "code",
      "source": [
        "student.study()"
      ],
      "metadata": {
        "colab": {
          "base_uri": "https://localhost:8080/"
        },
        "id": "NrL2hym73dSF",
        "outputId": "97eab6b4-5b24-4318-9f9b-b7c4b67d5ecc"
      },
      "execution_count": null,
      "outputs": [
        {
          "output_type": "stream",
          "name": "stdout",
          "text": [
            "Alice is studying the Python Programming course.\n"
          ]
        }
      ]
    },
    {
      "cell_type": "markdown",
      "source": [
        "**7.**What is the Method Resolution Order (MRO) in Python? How can you retrieve it programmatically?\n",
        "\n",
        "**Ans:**The Method Resolution Order (MRO) is the order in which Python looks for methods and attributes when a method is called on an object. It is particularly important in cases of multiple inheritance, where a class can inherit from multiple parent classes. The MRO defines the sequence in which Python searches the parent classes to find the method or attribute that should be called.\n",
        "\n",
        "When there are multiple inheritance paths, Python uses an algorithm called C3 Linearization (or C3 superclass linearization) to determine the order in which methods from parent classes are resolved."
      ],
      "metadata": {
        "id": "TVwdZIls3sRv"
      }
    },
    {
      "cell_type": "code",
      "source": [
        "# How MRO Works\n",
        "class A:\n",
        "    def method(self):\n",
        "        print(\"Method in A\")\n",
        "\n",
        "class B(A):\n",
        "    def method(self):\n",
        "        print(\"Method in B\")\n",
        "\n",
        "class C(A):\n",
        "    def method(self):\n",
        "        print(\"Method in C\")\n",
        "\n",
        "class D(B, C):\n",
        "    pass"
      ],
      "metadata": {
        "id": "3228JCRi4GD8"
      },
      "execution_count": null,
      "outputs": []
    },
    {
      "cell_type": "code",
      "source": [
        "d = D()"
      ],
      "metadata": {
        "id": "HrR2pRx84Y6f"
      },
      "execution_count": null,
      "outputs": []
    },
    {
      "cell_type": "code",
      "source": [
        "d.method()"
      ],
      "metadata": {
        "colab": {
          "base_uri": "https://localhost:8080/"
        },
        "id": "eFXUzFrZ4cW1",
        "outputId": "5d57841f-1c9d-4e44-b680-303d26a8968b"
      },
      "execution_count": null,
      "outputs": [
        {
          "output_type": "stream",
          "name": "stdout",
          "text": [
            "Method in B\n"
          ]
        }
      ]
    },
    {
      "cell_type": "markdown",
      "source": [
        "**8.**Create an abstract base class `Shape` with an abstract method `area()`. Then create two subclasses\n",
        "`Circle` and `Rectangle` that implement the `area()` method."
      ],
      "metadata": {
        "id": "uoPcG3xu_21d"
      }
    },
    {
      "cell_type": "code",
      "source": [
        "from abc import ABC, abstractmethod\n",
        "import math\n",
        "\n",
        "class Shape:\n",
        "\n",
        "    @abstractmethod\n",
        "    def area(self):\n",
        "        pass\n",
        "class Circle(Shape):\n",
        "    def __init__(self, radius):\n",
        "        self.radius = radius\n",
        "\n",
        "    def area(self):\n",
        "        return math.pi * self.radius ** 2  # Formula for area of a circle: πr²\n",
        "\n",
        "# Subclass Rectangle\n",
        "class Rectangle(Shape):\n",
        "    def __init__(self, width, height):\n",
        "        self.width = width\n",
        "        self.height = height\n",
        "\n",
        "    def area(self):\n",
        "        return self.width * self.height"
      ],
      "metadata": {
        "id": "Qyz3RyyWIgFa"
      },
      "execution_count": null,
      "outputs": []
    },
    {
      "cell_type": "code",
      "source": [
        "c = Circle(5)"
      ],
      "metadata": {
        "id": "e-uUmLihJiUm"
      },
      "execution_count": null,
      "outputs": []
    },
    {
      "cell_type": "code",
      "source": [
        "c.area()"
      ],
      "metadata": {
        "colab": {
          "base_uri": "https://localhost:8080/"
        },
        "id": "-i35qkPgKkuO",
        "outputId": "0246e9a0-88e5-41eb-c077-498a7cb58359"
      },
      "execution_count": null,
      "outputs": [
        {
          "output_type": "execute_result",
          "data": {
            "text/plain": [
              "78.53981633974483"
            ]
          },
          "metadata": {},
          "execution_count": 84
        }
      ]
    },
    {
      "cell_type": "code",
      "source": [
        "R = Rectangle(5,4)"
      ],
      "metadata": {
        "id": "HMQ4xWYSK4dk"
      },
      "execution_count": null,
      "outputs": []
    },
    {
      "cell_type": "code",
      "source": [
        "R.area()"
      ],
      "metadata": {
        "colab": {
          "base_uri": "https://localhost:8080/"
        },
        "id": "jHnE-0EyLCXb",
        "outputId": "0fc84c99-8a8e-4b7a-b204-66cb64c26cc1"
      },
      "execution_count": null,
      "outputs": [
        {
          "output_type": "execute_result",
          "data": {
            "text/plain": [
              "20"
            ]
          },
          "metadata": {},
          "execution_count": 87
        }
      ]
    },
    {
      "cell_type": "markdown",
      "source": [
        "**9.**Demonstrate polymorphism by creating a function that can work with different shape objects to calculate\n",
        "and print their areas."
      ],
      "metadata": {
        "id": "dhGa4cHjaUD8"
      }
    },
    {
      "cell_type": "code",
      "source": [
        "import math\n",
        "\n",
        "# Base class: Shape\n",
        "class Shape:\n",
        "    def area(self):\n",
        "        pass\n",
        "\n",
        "# Circle class that inherits from Shape\n",
        "class Circle(Shape):\n",
        "    def __init__(self, radius):\n",
        "        self.radius = radius\n",
        "\n",
        "    def area(self):\n",
        "        return math.pi * (self.radius ** 2)\n",
        "\n",
        "# Rectangle class that inherits from Shape\n",
        "class Rectangle(Shape):\n",
        "    def __init__(self, width, height):\n",
        "        self.width = width\n",
        "        self.height = height\n",
        "\n",
        "    def area(self):\n",
        "        return self.width * self.height\n",
        "\n",
        "# Triangle class that inherits from Shape\n",
        "class Triangle(Shape):\n",
        "    def __init__(self, base, height):\n",
        "        self.base = base\n",
        "        self.height = height\n",
        "\n",
        "    def area(self):\n",
        "        return 0.5 * self.base * self.height\n",
        "\n",
        "# Function that demonstrates polymorphism\n",
        "def print_area(shape: Shape):\n",
        "    print(f\"The area is: {shape.area()}\")\n"
      ],
      "metadata": {
        "id": "ONKGAOjfc2RF"
      },
      "execution_count": 1,
      "outputs": []
    },
    {
      "cell_type": "code",
      "source": [
        "circle = Circle(5)"
      ],
      "metadata": {
        "id": "_BKxRqZLdH_F"
      },
      "execution_count": 2,
      "outputs": []
    },
    {
      "cell_type": "code",
      "source": [
        "rectangle = Rectangle(4, 6)"
      ],
      "metadata": {
        "id": "ewFMOVNgdIQm"
      },
      "execution_count": 3,
      "outputs": []
    },
    {
      "cell_type": "code",
      "source": [
        "triangle = Triangle(3, 7)"
      ],
      "metadata": {
        "id": "wWvR8AyddPxD"
      },
      "execution_count": 4,
      "outputs": []
    },
    {
      "cell_type": "code",
      "source": [
        "circle.area()"
      ],
      "metadata": {
        "colab": {
          "base_uri": "https://localhost:8080/"
        },
        "id": "LXXw4ocrdT0K",
        "outputId": "fafae36c-1d85-4abc-a412-9cbc89cb5f1c"
      },
      "execution_count": 5,
      "outputs": [
        {
          "output_type": "execute_result",
          "data": {
            "text/plain": [
              "78.53981633974483"
            ]
          },
          "metadata": {},
          "execution_count": 5
        }
      ]
    },
    {
      "cell_type": "code",
      "source": [
        "rectangle.area()"
      ],
      "metadata": {
        "colab": {
          "base_uri": "https://localhost:8080/"
        },
        "id": "59Oq5kLVdZ9W",
        "outputId": "345f0430-3a67-483e-bbc4-cf165c356199"
      },
      "execution_count": 6,
      "outputs": [
        {
          "output_type": "execute_result",
          "data": {
            "text/plain": [
              "24"
            ]
          },
          "metadata": {},
          "execution_count": 6
        }
      ]
    },
    {
      "cell_type": "markdown",
      "source": [
        "**10.**Implement encapsulation in a `BankAccount` class with private attributes for `balance` and\n",
        "`account_number`. Include methods for deposit, withdrawal, and balance inquiry."
      ],
      "metadata": {
        "id": "zILvriHWdnIY"
      }
    },
    {
      "cell_type": "code",
      "source": [
        "class BankAccount:\n",
        "    def __init__(self, account_number, initial_balance=0):\n",
        "        # Private attributes (encapsulated)\n",
        "        self.__account_number = account_number\n",
        "        self.__balance = initial_balance\n",
        "\n",
        "    # Public method to deposit money into the account\n",
        "    def deposit(self, amount):\n",
        "        if amount > 0:\n",
        "            self.__balance += amount\n",
        "            print(f\"Deposited ${amount}. New balance: ${self.__balance}\")\n",
        "        else:\n",
        "            print(\"Deposit amount must be greater than zero.\")\n",
        "\n",
        "    # Public method to withdraw money from the account\n",
        "    def withdraw(self, amount):\n",
        "        if amount > 0:\n",
        "            if amount <= self.__balance:\n",
        "                self.__balance -= amount\n",
        "                print(f\"Withdrew ${amount}. New balance: ${self.__balance}\")\n",
        "            else:\n",
        "                print(\"Insufficient balance.\")\n",
        "        else:\n",
        "            print(\"Withdrawal amount must be greater than zero.\")\n",
        "\n",
        "    # Public method to check the account balance\n",
        "    def get_balance(self):\n",
        "        return self.__balance\n",
        "\n",
        "    # Public method to get the account number (just for demonstration)\n",
        "    def get_account_number(self):\n",
        "        return self.__account_number"
      ],
      "metadata": {
        "id": "lz1VTVTCdrK9"
      },
      "execution_count": 9,
      "outputs": []
    },
    {
      "cell_type": "code",
      "source": [
        "account = BankAccount(\"123456789\", 1000)"
      ],
      "metadata": {
        "id": "w3J0gbE-d5G2"
      },
      "execution_count": 8,
      "outputs": []
    },
    {
      "cell_type": "code",
      "source": [
        "account.deposit(500)"
      ],
      "metadata": {
        "colab": {
          "base_uri": "https://localhost:8080/"
        },
        "id": "AJ4fW75aeCGp",
        "outputId": "9b6a2baa-6468-4538-ca57-ac10ad6b4c59"
      },
      "execution_count": 10,
      "outputs": [
        {
          "output_type": "stream",
          "name": "stdout",
          "text": [
            "Deposited $500. New balance: $1500\n"
          ]
        }
      ]
    },
    {
      "cell_type": "code",
      "source": [
        "account.withdraw(200)"
      ],
      "metadata": {
        "colab": {
          "base_uri": "https://localhost:8080/"
        },
        "id": "xp3djG-YeEal",
        "outputId": "65ef00cf-dcdd-4203-824f-e034afc9f6f6"
      },
      "execution_count": 11,
      "outputs": [
        {
          "output_type": "stream",
          "name": "stdout",
          "text": [
            "Withdrew $200. New balance: $1300\n"
          ]
        }
      ]
    },
    {
      "cell_type": "markdown",
      "source": [
        "**11.**Write a class that overrides the `__str__` and `__add__` magic methods. What will these methods allow\n",
        "you to do?\n",
        "\n",
        "**Ans:**\n",
        "In Python, magic methods (or dunder methods) like __str__ and __add__ allow you to define how objects of your class behave when they are used in certain situations.\n",
        "\n",
        "__str__: This method is used to define the string representation of an object. When you use the str() function or print an object, Python calls this method to return a string that represents the object.\n",
        "\n",
        "__add__: This method is used to define the behavior of the + operator when applied to instances of your class. By overriding __add__, you can specify how two objects of your class should be added together."
      ],
      "metadata": {
        "id": "F2lcgN-heMqZ"
      }
    },
    {
      "cell_type": "markdown",
      "source": [
        "**12.**Create a decorator that measures and prints the execution time of a function."
      ],
      "metadata": {
        "id": "SfalSDvdfIUs"
      }
    },
    {
      "cell_type": "code",
      "source": [
        "import time\n",
        "\n",
        "def measure_execution_time(func):\n",
        "    def wrapper(*args, **kwargs):\n",
        "        start_time = time.time()  # Record start time\n",
        "        result = func(*args, **kwargs)  # Call the function\n",
        "        end_time = time.time()  # Record end time\n",
        "        execution_time = end_time - start_time  # Calculate the execution time\n",
        "        print(f\"Execution time of {func.__name__}: {execution_time:.4f} seconds\")\n",
        "        return result\n",
        "    return wrapper\n",
        "\n",
        "# Example usage\n",
        "@measure_execution_time\n",
        "def example_function():\n",
        "    time.sleep(2)  # Simulate a delay\n",
        "\n",
        "example_function()"
      ],
      "metadata": {
        "colab": {
          "base_uri": "https://localhost:8080/"
        },
        "id": "iaeClfG-fIuc",
        "outputId": "338cc249-4f13-40b6-a336-e1ae789a3ba4"
      },
      "execution_count": 12,
      "outputs": [
        {
          "output_type": "stream",
          "name": "stdout",
          "text": [
            "Execution time of example_function: 2.0002 seconds\n"
          ]
        }
      ]
    },
    {
      "cell_type": "markdown",
      "source": [
        "**13.**Explain the concept of the Diamond Problem in multiple inheritance. How does Python resolve it?\n",
        "\n",
        "**Ans:** The Diamond Problem in Multiple Inheritance\n",
        "The Diamond Problem refers to a complication that arises in object-oriented programming languages that support multiple inheritance. It occurs when a class inherits from two classes that both inherit from a common base class. This situation creates a \"diamond-shaped\" inheritance structure, and it can lead to ambiguity about which method or attribute should be inherited if both parent classes have a method or attribute with the same name.\n",
        "Here’s an example of the Diamond Problem:\n",
        "\n",
        "\n",
        "\n",
        "\n",
        "      A\n",
        "     / \\\n",
        "    B   C\n",
        "     \\ /\n",
        "      D\n",
        "\n",
        "\n",
        "\n",
        "\n",
        "\n",
        "Class A is the base class.\n",
        "Class B and class C both inherit from A.\n",
        "Class D inherits from both B and C.\n",
        "Now, if class B and class C both override a method or attribute from class A, there might be confusion about which method or attribute class D should inherit when it calls that method or accesses that attribute."
      ],
      "metadata": {
        "id": "Vf8x5mn5fVsG"
      }
    },
    {
      "cell_type": "markdown",
      "source": [
        "**14.**Write a class method that keeps track of the number of instances created from a class."
      ],
      "metadata": {
        "id": "KAfq5z19gT_W"
      }
    },
    {
      "cell_type": "code",
      "source": [
        "class MyClass:\n",
        "    instance_count = 0  # Class variable to store the count\n",
        "\n",
        "    def __init__(self):\n",
        "        MyClass.instance_count += 1  # Increment the count whenever an instance is created\n",
        "\n",
        "    @classmethod\n",
        "    def get_instance_count(cls):\n",
        "        return cls.instance_count  # Return the current instance count"
      ],
      "metadata": {
        "id": "KDUwAaSGgXpg"
      },
      "execution_count": 13,
      "outputs": []
    },
    {
      "cell_type": "code",
      "source": [
        "obj1 = MyClass()"
      ],
      "metadata": {
        "id": "pMlJr7_Rgc_7"
      },
      "execution_count": 14,
      "outputs": []
    },
    {
      "cell_type": "markdown",
      "source": [
        "**15.**Implement a static method in a class that checks if a given year is a leap year."
      ],
      "metadata": {
        "id": "68BTBarBgvCX"
      }
    },
    {
      "cell_type": "code",
      "source": [
        "class YearUtils:\n",
        "    @staticmethod\n",
        "    def is_leap_year(year):\n",
        "        # Check if the year is divisible by 4 and either not divisible by 100 or divisible by 400\n",
        "        if (year % 4 == 0 and year % 100 != 0) or (year % 400 == 0):\n",
        "            return True\n",
        "        else:\n",
        "            return False"
      ],
      "metadata": {
        "id": "NU5LBumFg_AT"
      },
      "execution_count": 15,
      "outputs": []
    },
    {
      "cell_type": "code",
      "source": [
        "year = YearUtils()"
      ],
      "metadata": {
        "id": "Nvlq-S3shCG3"
      },
      "execution_count": 16,
      "outputs": []
    },
    {
      "cell_type": "code",
      "source": [
        "print(YearUtils.is_leap_year(2020))"
      ],
      "metadata": {
        "colab": {
          "base_uri": "https://localhost:8080/"
        },
        "id": "-_Gcp_ydhMbl",
        "outputId": "eab58b96-f44a-4df2-ed54-064fceb49a85"
      },
      "execution_count": 17,
      "outputs": [
        {
          "output_type": "stream",
          "name": "stdout",
          "text": [
            "True\n"
          ]
        }
      ]
    },
    {
      "cell_type": "code",
      "source": [
        "print(YearUtils.is_leap_year(2021))"
      ],
      "metadata": {
        "colab": {
          "base_uri": "https://localhost:8080/"
        },
        "id": "YRYoar7dhOuw",
        "outputId": "dba563b3-bc14-4aec-cef6-fd7c230595e2"
      },
      "execution_count": 18,
      "outputs": [
        {
          "output_type": "stream",
          "name": "stdout",
          "text": [
            "False\n"
          ]
        }
      ]
    }
  ]
}