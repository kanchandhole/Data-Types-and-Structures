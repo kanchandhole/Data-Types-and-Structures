{
  "nbformat": 4,
  "nbformat_minor": 0,
  "metadata": {
    "colab": {
      "provenance": [],
      "authorship_tag": "ABX9TyMGHjbLb5muCkERMmHNkyIv",
      "include_colab_link": true
    },
    "kernelspec": {
      "name": "python3",
      "display_name": "Python 3"
    },
    "language_info": {
      "name": "python"
    }
  },
  "cells": [
    {
      "cell_type": "markdown",
      "metadata": {
        "id": "view-in-github",
        "colab_type": "text"
      },
      "source": [
        "<a href=\"https://colab.research.google.com/github/kanchandhole/Python-assignment/blob/main/Function_prac_assignment.ipynb\" target=\"_parent\"><img src=\"https://colab.research.google.com/assets/colab-badge.svg\" alt=\"Open In Colab\"/></a>"
      ]
    },
    {
      "cell_type": "markdown",
      "source": [
        "**1.**Write a Python function that takes a list of numbers as input and returns the sum of all even numbers in\n",
        "the list."
      ],
      "metadata": {
        "id": "H53doZw0x6xm"
      }
    },
    {
      "cell_type": "code",
      "source": [
        "def sum_even_nu(even):\n",
        "  total = 0\n",
        "  for i in even:\n",
        "    if i % 2 == 0:\n",
        "      total += i\n",
        "  return total"
      ],
      "metadata": {
        "id": "DqzVV3Vbx8_j"
      },
      "execution_count": null,
      "outputs": []
    },
    {
      "cell_type": "code",
      "source": [
        "sum_even_nu([1,2,3,4,5,6,7,8])"
      ],
      "metadata": {
        "colab": {
          "base_uri": "https://localhost:8080/"
        },
        "id": "hvo198Sg0oSY",
        "outputId": "c3840d0b-6dbb-4c6a-884b-a67326ec1607"
      },
      "execution_count": null,
      "outputs": [
        {
          "output_type": "execute_result",
          "data": {
            "text/plain": [
              "20"
            ]
          },
          "metadata": {},
          "execution_count": 24
        }
      ]
    },
    {
      "cell_type": "markdown",
      "source": [
        "**2.**Create a Python function that accepts a string and returns the reverse of that string"
      ],
      "metadata": {
        "id": "stRO10GNcCOJ"
      }
    },
    {
      "cell_type": "code",
      "source": [
        "def rever_string(s):\n",
        "  return s[::-1]"
      ],
      "metadata": {
        "id": "ea5hokWLcFRo"
      },
      "execution_count": null,
      "outputs": []
    },
    {
      "cell_type": "code",
      "source": [
        "rever_string(\"KANCHAN\")"
      ],
      "metadata": {
        "colab": {
          "base_uri": "https://localhost:8080/",
          "height": 36
        },
        "id": "9tnQUtqVca5T",
        "outputId": "c557b815-0967-4723-e057-191f37417b72"
      },
      "execution_count": null,
      "outputs": [
        {
          "output_type": "execute_result",
          "data": {
            "text/plain": [
              "'NAHCNAK'"
            ],
            "application/vnd.google.colaboratory.intrinsic+json": {
              "type": "string"
            }
          },
          "metadata": {},
          "execution_count": 4
        }
      ]
    },
    {
      "cell_type": "markdown",
      "source": [
        "**3.**Implement a Python function that takes a list of integers and returns a new list containing the squares of\n",
        "each number."
      ],
      "metadata": {
        "id": "ZxAzkuq3glXg"
      }
    },
    {
      "cell_type": "code",
      "source": [
        "def square_li(k):\n",
        "  return [i**2 for i in k]"
      ],
      "metadata": {
        "id": "-wnzV-Rogonj"
      },
      "execution_count": null,
      "outputs": []
    },
    {
      "cell_type": "code",
      "source": [
        "square_li([1,2,3,4,5])"
      ],
      "metadata": {
        "colab": {
          "base_uri": "https://localhost:8080/"
        },
        "id": "Gbf9lCeghJUF",
        "outputId": "c18884ae-b54d-4fa8-ec87-650e4e20257d"
      },
      "execution_count": null,
      "outputs": [
        {
          "output_type": "execute_result",
          "data": {
            "text/plain": [
              "[1, 4, 9, 16, 25]"
            ]
          },
          "metadata": {},
          "execution_count": 8
        }
      ]
    },
    {
      "cell_type": "markdown",
      "source": [
        "**4.**Write a Python function that checks if a given number is prime or not from 1 to 200."
      ],
      "metadata": {
        "id": "M2eTiUEOJzlA"
      }
    },
    {
      "cell_type": "code",
      "source": [
        "def prime_num(n):\n",
        " if n > 1:\n",
        "  for i in range(2, int(n//2) + 1):\n",
        "    if n % i == 0:\n",
        "      return False\n",
        "  return True"
      ],
      "metadata": {
        "id": "FOiG5V-_J2G9"
      },
      "execution_count": null,
      "outputs": []
    },
    {
      "cell_type": "code",
      "source": [
        "prime_num(2)"
      ],
      "metadata": {
        "colab": {
          "base_uri": "https://localhost:8080/"
        },
        "id": "YHv6-omdQcAi",
        "outputId": "4e0ea63b-ac09-49dc-c846-8f66dd2e4395"
      },
      "execution_count": null,
      "outputs": [
        {
          "output_type": "execute_result",
          "data": {
            "text/plain": [
              "True"
            ]
          },
          "metadata": {},
          "execution_count": 5
        }
      ]
    },
    {
      "cell_type": "code",
      "source": [
        "prime_num(3)"
      ],
      "metadata": {
        "colab": {
          "base_uri": "https://localhost:8080/"
        },
        "id": "YUg36m8pQhUh",
        "outputId": "c52b3f10-b30a-490f-d9e3-46a5ec905bdc"
      },
      "execution_count": null,
      "outputs": [
        {
          "output_type": "execute_result",
          "data": {
            "text/plain": [
              "True"
            ]
          },
          "metadata": {},
          "execution_count": 6
        }
      ]
    },
    {
      "cell_type": "code",
      "source": [
        "prime_num(8)"
      ],
      "metadata": {
        "colab": {
          "base_uri": "https://localhost:8080/"
        },
        "id": "DsZMAUETQlkm",
        "outputId": "76ee2db2-265f-476a-ab95-0894ee80889b"
      },
      "execution_count": null,
      "outputs": [
        {
          "output_type": "execute_result",
          "data": {
            "text/plain": [
              "False"
            ]
          },
          "metadata": {},
          "execution_count": 7
        }
      ]
    },
    {
      "cell_type": "markdown",
      "source": [
        "**5.**Create an iterator class in Python that generates the Fibonacci sequence up to a specified number of\n",
        "terms."
      ],
      "metadata": {
        "id": "r97RQ2TTVudc"
      }
    },
    {
      "cell_type": "code",
      "source": [
        "def fabonacci(n):\n",
        "  a,b = 0,1\n",
        "  for i in range(n):\n",
        "    yield a\n",
        "    a,b = b,a+b"
      ],
      "metadata": {
        "id": "PW9a8_b_V4Ib"
      },
      "execution_count": null,
      "outputs": []
    },
    {
      "cell_type": "code",
      "source": [
        "y = fabonacci(10)"
      ],
      "metadata": {
        "id": "xpmRh5_aV8pv"
      },
      "execution_count": null,
      "outputs": []
    },
    {
      "cell_type": "code",
      "source": [
        "y"
      ],
      "metadata": {
        "colab": {
          "base_uri": "https://localhost:8080/"
        },
        "id": "oEb6tDxYWBb_",
        "outputId": "31b0e18f-f9f5-41a4-ae9c-a7e55520c696"
      },
      "execution_count": null,
      "outputs": [
        {
          "output_type": "execute_result",
          "data": {
            "text/plain": [
              "<generator object fabonacci at 0x781a94343e20>"
            ]
          },
          "metadata": {},
          "execution_count": 10
        }
      ]
    },
    {
      "cell_type": "code",
      "source": [
        "next(y)"
      ],
      "metadata": {
        "colab": {
          "base_uri": "https://localhost:8080/"
        },
        "id": "tU1rkF93WDWY",
        "outputId": "c2e1765a-053e-4b56-b213-477caff996c4"
      },
      "execution_count": null,
      "outputs": [
        {
          "output_type": "execute_result",
          "data": {
            "text/plain": [
              "0"
            ]
          },
          "metadata": {},
          "execution_count": 11
        }
      ]
    },
    {
      "cell_type": "code",
      "source": [
        "next(y)"
      ],
      "metadata": {
        "colab": {
          "base_uri": "https://localhost:8080/"
        },
        "id": "DO58d-gYWHjs",
        "outputId": "742bba98-5737-4537-ca05-973311ea4119"
      },
      "execution_count": null,
      "outputs": [
        {
          "output_type": "execute_result",
          "data": {
            "text/plain": [
              "1"
            ]
          },
          "metadata": {},
          "execution_count": 12
        }
      ]
    },
    {
      "cell_type": "code",
      "source": [
        "next(y)"
      ],
      "metadata": {
        "colab": {
          "base_uri": "https://localhost:8080/"
        },
        "id": "kAy9561fWLEK",
        "outputId": "fe3923c7-b222-4f60-e10e-b8769518dab9"
      },
      "execution_count": null,
      "outputs": [
        {
          "output_type": "execute_result",
          "data": {
            "text/plain": [
              "1"
            ]
          },
          "metadata": {},
          "execution_count": 13
        }
      ]
    },
    {
      "cell_type": "markdown",
      "source": [
        "** 6.**Write a generator function in Python that yields the powers of 2 up to a given exponent."
      ],
      "metadata": {
        "id": "HiIOEbatWUo3"
      }
    },
    {
      "cell_type": "code",
      "source": [
        "def power_of_two(n):\n",
        "  for i in range(n+1):\n",
        "    yield 2**i"
      ],
      "metadata": {
        "id": "OvPIubtiWa1k"
      },
      "execution_count": null,
      "outputs": []
    },
    {
      "cell_type": "code",
      "source": [
        "ex = power_of_two(10)"
      ],
      "metadata": {
        "id": "egDQ6CrAW_Wy"
      },
      "execution_count": null,
      "outputs": []
    },
    {
      "cell_type": "code",
      "source": [
        "ex"
      ],
      "metadata": {
        "colab": {
          "base_uri": "https://localhost:8080/"
        },
        "id": "-1FFBsskXFRY",
        "outputId": "fb756c02-71ff-4c8f-b885-047da99239f7"
      },
      "execution_count": null,
      "outputs": [
        {
          "output_type": "execute_result",
          "data": {
            "text/plain": [
              "<generator object power_of_two at 0x781a94346ce0>"
            ]
          },
          "metadata": {},
          "execution_count": 17
        }
      ]
    },
    {
      "cell_type": "code",
      "source": [
        "next(ex)"
      ],
      "metadata": {
        "colab": {
          "base_uri": "https://localhost:8080/"
        },
        "id": "vQts24bAXN3A",
        "outputId": "c38c38e5-30ee-413f-d802-c91d1af20ed9"
      },
      "execution_count": null,
      "outputs": [
        {
          "output_type": "execute_result",
          "data": {
            "text/plain": [
              "1"
            ]
          },
          "metadata": {},
          "execution_count": 18
        }
      ]
    },
    {
      "cell_type": "code",
      "source": [
        "next(ex)"
      ],
      "metadata": {
        "colab": {
          "base_uri": "https://localhost:8080/"
        },
        "id": "1LWUHWG-XQqV",
        "outputId": "9de29ed8-f962-4998-dc70-b155f2e9f390"
      },
      "execution_count": null,
      "outputs": [
        {
          "output_type": "execute_result",
          "data": {
            "text/plain": [
              "2"
            ]
          },
          "metadata": {},
          "execution_count": 19
        }
      ]
    },
    {
      "cell_type": "code",
      "source": [
        "next(ex)"
      ],
      "metadata": {
        "colab": {
          "base_uri": "https://localhost:8080/"
        },
        "id": "B9w74qjdXZCB",
        "outputId": "1ac83782-c219-4988-f03f-2d0d5a0fbb9e"
      },
      "execution_count": null,
      "outputs": [
        {
          "output_type": "execute_result",
          "data": {
            "text/plain": [
              "4"
            ]
          },
          "metadata": {},
          "execution_count": 20
        }
      ]
    },
    {
      "cell_type": "code",
      "source": [
        "next(ex)"
      ],
      "metadata": {
        "colab": {
          "base_uri": "https://localhost:8080/"
        },
        "id": "-JzsA8zrXcWW",
        "outputId": "15792acf-4012-4d7f-e3a7-f6ee176702f9"
      },
      "execution_count": null,
      "outputs": [
        {
          "output_type": "execute_result",
          "data": {
            "text/plain": [
              "8"
            ]
          },
          "metadata": {},
          "execution_count": 21
        }
      ]
    },
    {
      "cell_type": "markdown",
      "source": [
        "**7.**Implement a generator function that reads a file line by line and yields each line as a string"
      ],
      "metadata": {
        "id": "VSk5l8qWYtZC"
      }
    },
    {
      "cell_type": "code",
      "source": [
        "def read_file_line_by_line(file_path):\n",
        "    with open(file_path, 'r') as file:\n",
        "        for line in file:\n",
        "            yield line.strip()"
      ],
      "metadata": {
        "id": "e9JMSMhxIxC2"
      },
      "execution_count": 1,
      "outputs": []
    },
    {
      "cell_type": "code",
      "source": [
        "file_path = 'Function prac assignment.ipynb'\n",
        "ge = read_file_line_by_line(file_path)"
      ],
      "metadata": {
        "id": "b_CqhKUwI_9b"
      },
      "execution_count": 3,
      "outputs": []
    },
    {
      "cell_type": "code",
      "source": [
        "ge"
      ],
      "metadata": {
        "colab": {
          "base_uri": "https://localhost:8080/"
        },
        "id": "ow3OWbiVJGUz",
        "outputId": "9ca54410-372c-4dca-91e8-d547d050ecff"
      },
      "execution_count": 6,
      "outputs": [
        {
          "output_type": "execute_result",
          "data": {
            "text/plain": [
              "<generator object read_file_line_by_line at 0x7f5549794040>"
            ]
          },
          "metadata": {},
          "execution_count": 6
        }
      ]
    },
    {
      "cell_type": "markdown",
      "source": [
        "**8.**Use a lambda function in Python to sort a list of tuples based on the second element of each tuple."
      ],
      "metadata": {
        "id": "2ctmNPgiRWvW"
      }
    },
    {
      "cell_type": "code",
      "source": [
        "words = [\"Python\", \"DataScience\", \"JS\",\n",
        "\"MachineLearning\"]\n",
        "sorted_words = sorted(words, key=lambda word: len(word))"
      ],
      "metadata": {
        "id": "2a563-JqRYvd"
      },
      "execution_count": 7,
      "outputs": []
    },
    {
      "cell_type": "code",
      "source": [
        "print(sorted_words)"
      ],
      "metadata": {
        "colab": {
          "base_uri": "https://localhost:8080/"
        },
        "id": "WFpIWnkARfIA",
        "outputId": "a198e9b5-70fa-4344-962e-3f0b5b41c485"
      },
      "execution_count": 8,
      "outputs": [
        {
          "output_type": "stream",
          "name": "stdout",
          "text": [
            "['JS', 'Python', 'DataScience', 'MachineLearning']\n"
          ]
        }
      ]
    },
    {
      "cell_type": "markdown",
      "source": [
        "**9.**Write a Python program that uses `map()` to convert a list of temperatures from Celsius to Fahrenheit."
      ],
      "metadata": {
        "id": "yGh2uaPj1l1R"
      }
    },
    {
      "cell_type": "code",
      "source": [
        "def celsius_to_fahrenheit(celsius):\n",
        "    return (celsius * 9/5) + 32\n",
        "    celsius_temperatures = [0, 20, 30, 40, 100]\n",
        "    fahrenheit_temperatures = list(map(celsius_to_fahrenheit, celsius_temperatures))\n",
        "    print(\"Celsius temperatures:\", celsius_temperatures)\n",
        "    print(\"Fahrenheit temperatures:\", fahrenheit_temperatures)\n"
      ],
      "metadata": {
        "id": "c6kox1Js2ISk"
      },
      "execution_count": 10,
      "outputs": []
    },
    {
      "cell_type": "code",
      "source": [
        "celsius_to_fahrenheit(30)"
      ],
      "metadata": {
        "colab": {
          "base_uri": "https://localhost:8080/"
        },
        "id": "77WOP-iI2-g5",
        "outputId": "c4a12970-8ed1-414c-87ca-141ff3c8e661"
      },
      "execution_count": 11,
      "outputs": [
        {
          "output_type": "execute_result",
          "data": {
            "text/plain": [
              "86.0"
            ]
          },
          "metadata": {},
          "execution_count": 11
        }
      ]
    },
    {
      "cell_type": "markdown",
      "source": [
        "**10.**Create a Python program that uses `filter()` to remove all the vowels from a given string."
      ],
      "metadata": {
        "id": "fkm2aNnp3lko"
      }
    },
    {
      "cell_type": "code",
      "source": [
        "def remove_vowels(input_string):\n",
        "    # Define vowels\n",
        "    vowels = 'aeiouAEIOU'\n",
        "    # Use filter and lambda to remove vowels\n",
        "    result = ''.join(filter(lambda char: char not in vowels, input_string))\n",
        "    return result"
      ],
      "metadata": {
        "id": "YUco7S3A-PIQ"
      },
      "execution_count": 1,
      "outputs": []
    },
    {
      "cell_type": "code",
      "source": [
        "input_string = \"Hello, World!\"\n",
        "output_string = remove_vowels(input_string)\n",
        "print(\"Original String:\", input_string)\n",
        "print(\"String without vowels:\", output_string)"
      ],
      "metadata": {
        "colab": {
          "base_uri": "https://localhost:8080/"
        },
        "id": "pvBRKX2GdfXN",
        "outputId": "04739905-c481-461d-93a0-b1c8f7dd999d"
      },
      "execution_count": 2,
      "outputs": [
        {
          "output_type": "stream",
          "name": "stdout",
          "text": [
            "Original String: Hello, World!\n",
            "String without vowels: Hll, Wrld!\n"
          ]
        }
      ]
    },
    {
      "cell_type": "markdown",
      "source": [
        "**11.**Imagine an accounting routine used in a book shop. It works on a list with sublists, which look like this:\n",
        "\n",
        "\n",
        "\n",
        "\n",
        "\n",
        "\n",
        "\n",
        "Write a Python program, which returns a list with 2-tuples. Each tuple consists of the order number and the\n",
        "product of the price per item and the quantity. The product should be increased by 10,- € if the value of the\n",
        "order is smaller than 100,00 €.\n",
        "\n",
        "Write a Python program using lambda and map."
      ],
      "metadata": {
        "id": "tohJkX1ce-TN"
      }
    },
    {
      "cell_type": "code",
      "source": [
        "def calculate_order_value(orders):\n",
        "    # Create a function to calculate the order value\n",
        "    def calculate_order(order):\n",
        "        order_number, price_per_item,quantity = order\n",
        "        total_value = price_per_item * quantity\n",
        "        # If the total value is less than 100, add 10 €\n",
        "        if total_value < 100:\n",
        "            total_value += 10\n",
        "        return(order_number,total_value)\n",
        "\n",
        "    # Use map and lambda to apply calculate_order to each order in the list\n",
        "    return list(map(lambda order: calculate_order(order), orders))\n",
        "\n",
        "# Example orders list (order_number, price_per_item, quantity)\n",
        "orders = [\n",
        "    (34587, 40.95, 4),\n",
        "    (98762, 56.80, 5),\n",
        "    (77226,32.95, 3),\n",
        "    (88112,24.99, 3),\n",
        "]\n",
        "\n",
        "# Get the list of 2-tuples with order number and final price\n",
        "result = calculate_order_value(orders)\n",
        "\n",
        "# Print the result\n",
        "print(result)\n"
      ],
      "metadata": {
        "colab": {
          "base_uri": "https://localhost:8080/"
        },
        "id": "CIG-shume518",
        "outputId": "e22057cc-f0c8-44d8-d192-177cffdcfda3"
      },
      "execution_count": 13,
      "outputs": [
        {
          "output_type": "stream",
          "name": "stdout",
          "text": [
            "[(34587, 163.8), (98762, 284.0), (77226, 108.85000000000001), (88112, 84.97)]\n"
          ]
        }
      ]
    }
  ]
}