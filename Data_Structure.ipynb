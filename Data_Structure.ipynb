{
  "nbformat": 4,
  "nbformat_minor": 0,
  "metadata": {
    "colab": {
      "provenance": [],
      "authorship_tag": "ABX9TyNOL24J3/vyHPVzK8isu75F",
      "include_colab_link": true
    },
    "kernelspec": {
      "name": "python3",
      "display_name": "Python 3"
    },
    "language_info": {
      "name": "python"
    }
  },
  "cells": [
    {
      "cell_type": "markdown",
      "metadata": {
        "id": "view-in-github",
        "colab_type": "text"
      },
      "source": [
        "<a href=\"https://colab.research.google.com/github/kanchandhole/Data-Types-and-Structures/blob/main/Data_Structure.ipynb\" target=\"_parent\"><img src=\"https://colab.research.google.com/assets/colab-badge.svg\" alt=\"Open In Colab\"/></a>"
      ]
    },
    {
      "cell_type": "markdown",
      "source": [
        "\n",
        "**1.**What are data structures, and why are they important?\n",
        "\n",
        "**Ans:**-data structures are specialized formats for oranizing, storing, and accessing collections of data.\n",
        "\n",
        "Data structures are important because they help computers process large, complex sets of information more efficiently.\n"
      ],
      "metadata": {
        "id": "gTwYP-0xSloW"
      }
    },
    {
      "cell_type": "markdown",
      "source": [
        "**2.**Explain the difference between mutable and immutable data types with examples?\n",
        "\n",
        "**Ans:** Mutable is changeable , such as list and dictionary it can be change or\n",
        " modified. and immutable is unchangeable, such as strings and tuple it can be change or modified."
      ],
      "metadata": {
        "id": "-BR2EmRqSygp"
      }
    },
    {
      "cell_type": "markdown",
      "source": [
        "**3.**What are the main differences between lists and tuples in Python?\n",
        "\n",
        "**Ans:-** List:\n",
        "\n",
        "1. list[] is collect of data that ordered and changeable\n",
        "2. python lists data are written in array brackets eg.[]\n",
        "3. performed slower due to dynamic nature.\n",
        "\n",
        "Tuples:\n",
        "\n",
        "\n",
        "1.  a tuple is collection of data that is ordered and unchangeable.\n",
        "2.  python tuples data are written in parentheses ( ).\n",
        "3. performed faster due to static in nature.\n",
        "\n",
        "\n",
        "\n",
        "\n",
        "\n",
        "\n",
        "\n"
      ],
      "metadata": {
        "id": "g485qfANYXRy"
      }
    },
    {
      "cell_type": "markdown",
      "source": [
        "**4.**Describe how dictionaries store data?\n",
        "\n",
        "**Ans:**\n",
        "\n",
        "1.   Dictionaries are used to store data values in key:value pairs  within braces { },.\n",
        "2.   A dictionary is a collection which is ordered, changeable and do not allow duplicates.\n",
        "3. ex.dict={riya:12, pooja:54}\n"
      ],
      "metadata": {
        "id": "c2Ucc3glTD23"
      }
    },
    {
      "cell_type": "markdown",
      "source": [
        "**5.** Why might you use a set instead of a list in Python?\n",
        "\n",
        "**Ans:-** sets are unordered collection of unique elements. it remove all duplicate element, due to this we used set instead of a list in python."
      ],
      "metadata": {
        "id": "kDVBUvzecO_7"
      }
    },
    {
      "cell_type": "markdown",
      "source": [
        "**6.** What is a string in Python, and how is it different from a list?\n",
        "\n",
        "**Ans:**   \n",
        "A string is a sequence of characters between single or double quotes.\n",
        "A list is a sequence of items, where each item could be anything float, integer, string etc."
      ],
      "metadata": {
        "id": "dAvKPHUIb3b5"
      }
    },
    {
      "cell_type": "markdown",
      "source": [
        "**7.** How do tuples ensure data integrity in Python4\n",
        "\n",
        "**Ans:**\n",
        "Tuples are immutable to ensure that their contents remain constant throughout their lifecycle, guaranteeing data integrity and reliability. This immutability allows tuples to be used as keys in dictionaries and elements in sets, as they can be hashed"
      ],
      "metadata": {
        "id": "AxIO3XExhwYk"
      }
    },
    {
      "cell_type": "markdown",
      "source": [
        "**8.** What is a hash table, and how does it relate to dictionaries in Python?\n",
        "\n",
        "**Ans:** A hash table is a data structure that stores key-value pairs in an array format, with each value having a unique index value. A hash function is used to compute the index, or hash code, for each key, which determines where the corresponding value is stored.\n",
        "\n",
        "**how does it relate to dictionaries in Python?**\n",
        "\n",
        "Python dictionaries are built using hash tables and the open addressing collision resolution method. The keys of a Python dictionary are generated by a hashing function, and the elements of a dictionary are not ordered and can be changed.\n",
        "\n"
      ],
      "metadata": {
        "id": "qgABnmryjGHh"
      }
    },
    {
      "cell_type": "markdown",
      "source": [
        "**9.**Can lists contain different data types in Python?\n",
        "\n",
        "**Ans:** Yes, list can contain different data types such as string, float and integer."
      ],
      "metadata": {
        "id": "UO3UvSkvk8TR"
      }
    },
    {
      "cell_type": "markdown",
      "source": [
        "**10.** Explain why strings are immutable in Python?\n",
        "\n",
        "**Ans:** String can not be change after they created.\n",
        "eg. s=\"kanchan\"\n",
        "s[0]=k,\n",
        "s[0]=k we can not replace t instead of k it through an error. because of that string are immutable."
      ],
      "metadata": {
        "id": "lpLMgii5k-S7"
      }
    },
    {
      "cell_type": "markdown",
      "source": [
        "**11.**What advantages do dictionaries offer over lists for certain tasks?\n",
        "\n",
        "**Ans:** Lists can duplicate values since each values have unique index. Dictionaries cannot contain duplicate keys but can contain duplicate values since each value has unique key."
      ],
      "metadata": {
        "id": "LuL3ScNRm0i5"
      }
    },
    {
      "cell_type": "markdown",
      "source": [
        "**12.**Describe a scenario where using a tuple would be preferable over a list?\n",
        "\n",
        "**Ans:** as we have like adhar card, pan card, emp id, which we do not want to change.this scenario we can used tuples over a list, in list we can change data."
      ],
      "metadata": {
        "id": "4yHncmQ2nlE7"
      }
    },
    {
      "cell_type": "markdown",
      "source": [
        "**13.**How do sets handle duplicate values in Python?\n",
        "\n",
        "**Ans:** set remove duplicate value in python and can not showed duplicate value after executive."
      ],
      "metadata": {
        "id": "CtEXomNSpB5j"
      }
    },
    {
      "cell_type": "markdown",
      "source": [
        "**14.**How does the “in” keyword work differently for lists and dictionaries?\n",
        "\n",
        "**Ans:** The 'in' keyword in Python returns True if a certain element is present in a Python object, else it will return False. It has two purposes: To check if a value is present in a list, tuple, range, string, etc. To iterate through a sequence in a for loop."
      ],
      "metadata": {
        "id": "IIWp5It1p-lH"
      }
    },
    {
      "cell_type": "markdown",
      "source": [
        "**15.**Can you modify the elements of a tuple? Explain why or why not?\n",
        "\n",
        "**Ans:** no tuple not modified, tuples are immutable they can not be change once they created."
      ],
      "metadata": {
        "id": "8FJZ-4_VuURB"
      }
    },
    {
      "cell_type": "markdown",
      "source": [
        "**16.**What is a nested dictionary, and give an example of its use case?\n",
        "\n",
        "**Ans:** In Python, a nested dictionary is a dictionary inside a dictionary. It's a collection of dictionaries into one single dictionary. In Python, a nested dictionary is a dictionary inside a dictionary. It's a collection of dictionaries into one single dictionary."
      ],
      "metadata": {
        "id": "VJv0q-l8uyn7"
      }
    },
    {
      "cell_type": "markdown",
      "source": [
        "**17.**Describe the time complexity of accessing elements in a dictionary?\n",
        "\n",
        "**Ans:** Time complexity: O(1), which is constant time. This is because dictionary in Python is implemented as a hash table, and the “in” operator uses hash table lookups to find the key, which takes constant time on average."
      ],
      "metadata": {
        "id": "x_iseFumikw-"
      }
    },
    {
      "cell_type": "markdown",
      "source": [
        "**18.**In what situations are lists preferred over dictionaries?\n",
        "\n",
        "**Ans:** if we need ordered collection, like squence of user action we use list over dictionaries."
      ],
      "metadata": {
        "id": "R4tfpA0dmglX"
      }
    },
    {
      "cell_type": "markdown",
      "source": [
        "**19.**Why are dictionaries considered unordered, and how does that affect data retrieval?\n",
        "\n",
        "**Ans:**Dictionary in Python is an unordered collection of data values, used to store data values like a map, unlike other Data Types that hold only a single value as an element, a Dictionary holds key: value pair. Key-value is provided in the dictionary to make it more optimized."
      ],
      "metadata": {
        "id": "RdKpKhzynCa6"
      }
    },
    {
      "cell_type": "markdown",
      "source": [
        "**20.**Explain the difference between a list and a dictionary in terms of data retrieval.\n",
        "\n",
        "**Ans:** List: data retrieval function in list are append(), remove(), pop(), sort(), etc.\n",
        "\n",
        "dictionary: keys(), values(), items(), get(), pop(), etc."
      ],
      "metadata": {
        "id": "XsS0S4ZTn9wk"
      }
    }
  ]
}