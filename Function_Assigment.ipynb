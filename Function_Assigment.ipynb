{
  "nbformat": 4,
  "nbformat_minor": 0,
  "metadata": {
    "colab": {
      "provenance": [],
      "authorship_tag": "ABX9TyPI7+bczBJf7WueGlHnq8tP",
      "include_colab_link": true
    },
    "kernelspec": {
      "name": "python3",
      "display_name": "Python 3"
    },
    "language_info": {
      "name": "python"
    }
  },
  "cells": [
    {
      "cell_type": "markdown",
      "metadata": {
        "id": "view-in-github",
        "colab_type": "text"
      },
      "source": [
        "<a href=\"https://colab.research.google.com/github/kanchandhole/Python-assignment/blob/main/Function_Assigment.ipynb\" target=\"_parent\"><img src=\"https://colab.research.google.com/assets/colab-badge.svg\" alt=\"Open In Colab\"/></a>"
      ]
    },
    {
      "cell_type": "markdown",
      "source": [
        "**1.**What is the difference between a function and a method in Python?\n",
        "\n",
        "**Ans:-** Function: A function is a block of code that is designed to perform a specific task. It is defined using the def keyword, and can be called by its name anywhere in the program. Functions can exist independently and don't need to be tied to an object.\n",
        "\n",
        "def greet(name):\n",
        "    \n",
        "    return f\"Hello, {name}!\"\n",
        "\n",
        "\n",
        "\n",
        "Method: A method is a function that is associated with an object. In Python, methods are functions that are defined inside a class and are called on instances (objects) of that class. Methods typically operate on the data within an object (using self to access the instance’s attributes).\n",
        "\n",
        "\n",
        "\n",
        "class Person:\n",
        "    \n",
        "    def __init__(self, name):\n",
        "        self.name = name\n",
        "    \n",
        "    def greet(self):\n",
        "        return f\"Hello, {self.name}!\"\n",
        "\n",
        "p = Person(\"Alice\")\n",
        "\n",
        "print(p.greet())  # Method call\n",
        "\n"
      ],
      "metadata": {
        "id": "ISiaWtxdTUGK"
      }
    },
    {
      "cell_type": "markdown",
      "source": [
        "**2.**Explain the concept of function arguments and parameters in Python.\n",
        "\n",
        "Ans:-In Python, function parameters and function arguments are key concepts that help in defining and calling functions. They are related but have distinct roles\n",
        "\n",
        "1. Parameters:\n",
        "Parameters are the names that appear in the function definition. They act as placeholders for the values that will be passed into the function when it is called. Parameters are part of the function's signature and are used within the function body.\n",
        "\n",
        "def greet(name, age):  # name and age are parameters\n",
        "\n",
        "2. Arguments:\n",
        "Arguments are the actual values that are passed into the function when it is called. These values are assigned to the parameters when the function is executed.\n",
        "\n",
        "greet(\"Alice\", 25)  # \"Alice\" and 25 are arguments\n",
        "\n",
        "\n",
        "\n"
      ],
      "metadata": {
        "id": "I0MeIhD7UjJV"
      }
    },
    {
      "cell_type": "markdown",
      "source": [
        "**3.**What are the different ways to define and call a function in Python?\n",
        "\n",
        "Ans:-**1.Defining and Calling a Simple Function**\n",
        "\n",
        "This is the most basic way to define and call a function in Python. You define a function using the def keyword, and then call it by its name.\n",
        "\n",
        "\n",
        "def greet():\n",
        "    print(\"Hello, world!\")\n",
        "\n",
        "greet()\n",
        "\n",
        "**2.Function with Parameters and Arguments**\n",
        "You can define a function with parameters and pass arguments when calling it.\n",
        "\n",
        "\n",
        "def greet(name):\n",
        "    print(f\"Hello, {name}!\")\n",
        "\n",
        "greet(\"Alice\")\n",
        "\n",
        "**3.Function with Return Values**\n",
        "Functions can return values using the return keyword. When you call the function, you can capture the returned value in a variable.\n",
        "\n",
        "def add(a, b):\n",
        "    return a + b\n",
        "\n",
        "result = add(3, 5)\n",
        "print(result)"
      ],
      "metadata": {
        "id": "dW7vBzmGVoSo"
      }
    },
    {
      "cell_type": "markdown",
      "source": [
        "**4.**What is the purpose of the `return` statement in a Python function?\n",
        "\n",
        "Ans:-The return statement in a Python function is used to send a result or value back from the function to the caller. It ends the execution of the function and allows the function to pass data back to where it was called. Without the return statement, a function would return None by default.\n",
        "\n",
        "def greet():\n",
        "    print(\"Hello\")\n",
        "    \n",
        "    return  # Function exits here\n",
        "    print(\"Goodbye\")  # This line will not be executed\n",
        "\n",
        "greet()  # Output: Hello"
      ],
      "metadata": {
        "id": "6M9CmNVFXGEZ"
      }
    },
    {
      "cell_type": "markdown",
      "source": [
        "**5.**What are iterators in Python and how do they differ from iterables?\n",
        "\n",
        "Ans:-Iterable\n",
        "An iterable is any Python object capable of returning its members one at a time, allowing it to be looped over (iterated) using a for loop or any function that expects an iterable (like list(), sum(), etc.).\n",
        "\n",
        "What makes an object iterable: An object is considered iterable if it implements the __iter__() method or has a __getitem__() method, which allows accessing the elements one by one.\n",
        "\n",
        "Common examples of iterables: Lists, tuples, strings, dictionaries, sets, and even custom objects that implement __iter__().\n",
        "\n"
      ],
      "metadata": {
        "id": "KD7v6F70YegQ"
      }
    },
    {
      "cell_type": "markdown",
      "source": [
        "**6.**Explain the concept of generators in Python and how they are defined.\n",
        "\n",
        "Ans: Generator functions in Python are a way to create iterators in a more concise and memory-efficient manner\n",
        "\n",
        "Key Concepts of Generators\n",
        "Lazy Evaluation: Generators produce values one at a time using the yield keyword, and they don't compute all values at once. This means that only the current value is generated and kept in memory, rather than the entire sequence.\n",
        "\n",
        "State Retention: When a generator function is paused at a yield statement, it retains its state (including variable values). When the generator is resumed, it picks up from where it left off.\n",
        "\n",
        "Efficiency: Since generators don’t store the entire sequence in memory, they are more efficient than lists for large datasets or infinite sequences. The values are generated only when requested.\n",
        "\n",
        "**How to Define a Generator**\n",
        "\n",
        "Generators are defined using functions with the yield keyword. When a function contains a yield statement, it becomes a generator function. The yield keyword pauses the function's execution and sends a value back to the caller. The function can be resumed at the point where it left off when next() is called again."
      ],
      "metadata": {
        "id": "jartpE63aMuS"
      }
    },
    {
      "cell_type": "markdown",
      "source": [
        "**7.**What are the advantages of using generators over regular functions?\n",
        "\n",
        "**Ans:**\n",
        "Generators use less memory because they yield values one at a time, rather than generating and storing an entire collection of data in memory. This is particularly beneficial when working with large datasets or sequences that would be too large to store entirely in memory (e.g., processing a large file line by line).\n",
        "Regular functions, on the other hand, return a complete collection (like a list), which can be very memory-intensive if the dataset is large."
      ],
      "metadata": {
        "id": "RjRvoCDUbFp3"
      }
    },
    {
      "cell_type": "markdown",
      "source": [
        "**8.**What is a lambda function in Python and when is it typically used?\n",
        "\n",
        "**Ans:** A lambda function in Python is a concise way to create anonymous functions, also known as lambda\n",
        "expressions\n",
        " Unlike regular functions defined using the def keyword, lambda functions are often used for short-term\n",
        "operations and are defined in a single line."
      ],
      "metadata": {
        "id": "qlowRdxDbc7O"
      }
    },
    {
      "cell_type": "markdown",
      "source": [
        "**9.**Explain the purpose and usage of the `map()` function in Python.\n",
        "\n",
        "**Ans:**The `map()` function executes a specified function for each item in an `iterable`. The item is sent to the function as a parameter\n",
        "\n",
        " The map() function in Python is a built-in function that applies a given function to all the items in an iterable\n",
        "(e.g., a list) and returns an iterable map object (an iterator) of the results.\n",
        "\n",
        " The syntax for the map() function is:\n",
        "\n",
        " map(function, iterable, ...)"
      ],
      "metadata": {
        "id": "kid0_tJCbtz2"
      }
    },
    {
      "cell_type": "markdown",
      "source": [
        "**10.**What is the difference between `map()`, `reduce()`, and `filter()` functions in Python?\n",
        "\n",
        "map():\n",
        "Transforms each element in an iterable using a provided function, returning a new iterable with the transformed values.\n",
        "\n",
        "filter():\n",
        "Filters elements from an iterable based on a condition, returning a new iterable containing only the elements that satisfy the condition.\n",
        "\n",
        "reduce():\n",
        "Aggregates all elements of an iterable into a single value by applying a function to pairs of elements sequentially.\n"
      ],
      "metadata": {
        "id": "Ce63eT3ccwLh"
      }
    },
    {
      "cell_type": "markdown",
      "source": [
        "**11.**Using pen & Paper write the internal mechanism for sum operation using  reduce function on this given\n",
        "list:[47,11,42,13];\n",
        "\n",
        "**Ans:**\n",
        "lis = [47,11,42,13]\n",
        "\n",
        "x =47 , y  = 11\n",
        "\n",
        "x+y = 47 + 11 = 58\n",
        "\n",
        "then consider 58 is x\n",
        "\n",
        "x = 58 , y = 42\n",
        "\n",
        "58+48 =100\n",
        "\n",
        "Then consider x = 100\n",
        "\n",
        "x =100 , y =13\n",
        "\n",
        "100+13= 113\n",
        "\n"
      ],
      "metadata": {
        "id": "FV7yuWf95_em"
      }
    },
    {
      "cell_type": "code",
      "source": [
        "from functools import reduce\n",
        "lis = [47,11,42,13]\n",
        "total = reduce(lambda x,y : x+y , lis)"
      ],
      "metadata": {
        "id": "M6iFNED57WkR"
      },
      "execution_count": 1,
      "outputs": []
    },
    {
      "cell_type": "code",
      "source": [
        "print(total)"
      ],
      "metadata": {
        "colab": {
          "base_uri": "https://localhost:8080/"
        },
        "id": "3dvqjHjZ7Ylc",
        "outputId": "bd605da2-9028-468b-cd8c-95603fee3d19"
      },
      "execution_count": 2,
      "outputs": [
        {
          "output_type": "stream",
          "name": "stdout",
          "text": [
            "113\n"
          ]
        }
      ]
    }
  ]
}